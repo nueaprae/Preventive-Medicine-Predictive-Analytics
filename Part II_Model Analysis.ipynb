{
 "cells": [
  {
   "cell_type": "code",
   "execution_count": 53,
   "metadata": {},
   "outputs": [
    {
     "name": "stdout",
     "output_type": "stream",
     "text": [
      "Requirement already satisfied: xgboost in /opt/anaconda3/lib/python3.12/site-packages (2.1.1)\n",
      "Requirement already satisfied: numpy in /opt/anaconda3/lib/python3.12/site-packages (from xgboost) (1.26.4)\n",
      "Requirement already satisfied: scipy in /opt/anaconda3/lib/python3.12/site-packages (from xgboost) (1.13.1)\n",
      "Note: you may need to restart the kernel to use updated packages.\n"
     ]
    }
   ],
   "source": [
    "pip install xgboost"
   ]
  },
  {
   "cell_type": "code",
   "execution_count": 54,
   "metadata": {},
   "outputs": [],
   "source": [
    "import xgboost as xgb\n"
   ]
  },
  {
   "cell_type": "code",
   "execution_count": 55,
   "metadata": {},
   "outputs": [
    {
     "name": "stdout",
     "output_type": "stream",
     "text": [
      "Requirement already satisfied: scikit-learn in /opt/anaconda3/lib/python3.12/site-packages (1.4.2)\n",
      "Requirement already satisfied: numpy>=1.19.5 in /opt/anaconda3/lib/python3.12/site-packages (from scikit-learn) (1.26.4)\n",
      "Requirement already satisfied: scipy>=1.6.0 in /opt/anaconda3/lib/python3.12/site-packages (from scikit-learn) (1.13.1)\n",
      "Requirement already satisfied: joblib>=1.2.0 in /opt/anaconda3/lib/python3.12/site-packages (from scikit-learn) (1.4.2)\n",
      "Requirement already satisfied: threadpoolctl>=2.0.0 in /opt/anaconda3/lib/python3.12/site-packages (from scikit-learn) (2.2.0)\n",
      "Note: you may need to restart the kernel to use updated packages.\n"
     ]
    }
   ],
   "source": [
    "pip install scikit-learn"
   ]
  },
  {
   "cell_type": "code",
   "execution_count": 56,
   "metadata": {},
   "outputs": [],
   "source": [
    "from sklearn.model_selection import train_test_split\n",
    "from sklearn.metrics import accuracy_score, classification_report"
   ]
  },
  {
   "cell_type": "code",
   "execution_count": 57,
   "metadata": {},
   "outputs": [
    {
     "name": "stdout",
     "output_type": "stream",
     "text": [
      "Requirement already satisfied: pandas in /opt/anaconda3/lib/python3.12/site-packages (2.2.2)\n",
      "Requirement already satisfied: numpy>=1.26.0 in /opt/anaconda3/lib/python3.12/site-packages (from pandas) (1.26.4)\n",
      "Requirement already satisfied: python-dateutil>=2.8.2 in /opt/anaconda3/lib/python3.12/site-packages (from pandas) (2.9.0.post0)\n",
      "Requirement already satisfied: pytz>=2020.1 in /opt/anaconda3/lib/python3.12/site-packages (from pandas) (2024.1)\n",
      "Requirement already satisfied: tzdata>=2022.7 in /opt/anaconda3/lib/python3.12/site-packages (from pandas) (2023.3)\n",
      "Requirement already satisfied: six>=1.5 in /opt/anaconda3/lib/python3.12/site-packages (from python-dateutil>=2.8.2->pandas) (1.16.0)\n",
      "Note: you may need to restart the kernel to use updated packages.\n"
     ]
    }
   ],
   "source": [
    "pip install pandas"
   ]
  },
  {
   "cell_type": "code",
   "execution_count": 58,
   "metadata": {},
   "outputs": [],
   "source": [
    "import pandas as pd"
   ]
  },
  {
   "cell_type": "code",
   "execution_count": 59,
   "metadata": {},
   "outputs": [],
   "source": [
    "pd.set_option('display.max_columns',None)\n",
    "pd.set_option('display.max_rows',None)"
   ]
  },
  {
   "cell_type": "code",
   "execution_count": 60,
   "metadata": {},
   "outputs": [],
   "source": [
    "df_data = pd.read_csv('XGB_train.csv')"
   ]
  },
  {
   "cell_type": "code",
   "execution_count": 61,
   "metadata": {},
   "outputs": [],
   "source": [
    "df_ho_data = pd.read_csv('XGB_holdout.csv')"
   ]
  },
  {
   "cell_type": "code",
   "execution_count": 62,
   "metadata": {},
   "outputs": [
    {
     "name": "stdout",
     "output_type": "stream",
     "text": [
      "(1527904, 340)\n",
      "(381976, 339)\n"
     ]
    }
   ],
   "source": [
    "print(df_data.shape) \n",
    "print(df_ho_data.shape) "
   ]
  },
  {
   "cell_type": "code",
   "execution_count": 63,
   "metadata": {},
   "outputs": [
    {
     "name": "stdout",
     "output_type": "stream",
     "text": [
      "preventive_visit_gap_ind           1.000000\n",
      "days_since_last_clm                0.208782\n",
      "rx_days_since_last_script          0.199621\n",
      "generic_grouper                    0.190725\n",
      "unattributed_provider              0.181143\n",
      "veteran_ind                        0.141452\n",
      "disabled_ind                       0.069132\n",
      "state_NM                           0.048310\n",
      "state_MS                           0.025855\n",
      "er_visit                           0.015840\n",
      "total_cob_paid_pmpm_cost           0.012398\n",
      "rwjf_dui_deaths_pct                0.011890\n",
      "cms_tot_partd_payment_amt          0.009867\n",
      "cms_tot_ma_payment_amt             0.000202\n",
      "total_mbr_resp_pmpm_cost          -0.002208\n",
      "total_allowed_pmpm_cost           -0.004832\n",
      "total_net_paid_pmpm_cost          -0.005089\n",
      "state_IL                          -0.005773\n",
      "state_ME                          -0.013336\n",
      "rx_overall_net_paid_pmpm_cost     -0.014146\n",
      "rx_overall_pmpm_cost              -0.015617\n",
      "total_copay_pmpm_cost             -0.018644\n",
      "age                               -0.030360\n",
      "all_mm_tenure                     -0.033684\n",
      "consec_tenure_month               -0.035966\n",
      "state_WV                          -0.037390\n",
      "rx_overall_mbr_resp_pmpm_cost     -0.041098\n",
      "rx_overall_copay_pmpm_cost        -0.044150\n",
      "rx_overall_gpi_pmpm_ct            -0.068608\n",
      "comp_physical_exam                -0.073705\n",
      "rwjf_diabetes_monitor_pct         -0.085729\n",
      "rx_tier_1_pmpm_ct                 -0.090234\n",
      "cnt_cp_webstatement_pmpm_ct       -0.090696\n",
      "obgyn_visit                       -0.096929\n",
      "preventative_visit                -0.098650\n",
      "riskarr_downside                  -0.119543\n",
      "measure_type_Patient Experience   -0.127393\n",
      "compliant_cnt                     -0.135099\n",
      "Name: preventive_visit_gap_ind, dtype: float64\n"
     ]
    }
   ],
   "source": [
    "import pandas as pd\n",
    "\n",
    "#selected_features = ['age', 'cms_tot_ma_payment_amt', 'cms_tot_partd_payment_amt', 'compliant_cnt', 'days_since_last_clm', \n",
    "                     #'er_visit', 'generic_grouper', 'preventative_visit', 'riskarr_downside', 'total_allowed_pmpm_cost', \n",
    "                     #'total_net_paid_pmpm_cost', 'veteran_ind']\n",
    "\n",
    "selected_features = [\n",
    "    'age', 'all_mm_tenure', 'cms_tot_ma_payment_amt', 'cms_tot_partd_payment_amt',\n",
    "    'cnt_cp_webstatement_pmpm_ct', 'comp_physical_exam', 'compliant_cnt', 'consec_tenure_month',\n",
    "    'days_since_last_clm', 'disabled_ind', 'er_visit', 'generic_grouper', 'measure_type_Patient Experience',\n",
    "    'obgyn_visit', 'preventative_visit', 'riskarr_downside', 'rwjf_diabetes_monitor_pct', 'rwjf_dui_deaths_pct',\n",
    "    'rx_days_since_last_script', 'rx_overall_copay_pmpm_cost', 'rx_overall_gpi_pmpm_ct', \n",
    "    'rx_overall_mbr_resp_pmpm_cost', 'rx_overall_net_paid_pmpm_cost', 'rx_overall_pmpm_cost', \n",
    "    'rx_tier_1_pmpm_ct', 'state_IL', 'state_ME', 'state_MS', 'state_NM', 'state_WV', \n",
    "    'total_allowed_pmpm_cost', 'total_cob_paid_pmpm_cost', 'total_copay_pmpm_cost', \n",
    "    'total_mbr_resp_pmpm_cost', 'total_net_paid_pmpm_cost', 'unattributed_provider', 'veteran_ind'\n",
    "]\n",
    "\n",
    "correlation_data = df_data[selected_features + ['preventive_visit_gap_ind']]\n",
    "\n",
    "correlation_matrix = correlation_data.corr()\n",
    "\n",
    "print(correlation_matrix['preventive_visit_gap_ind'].sort_values(ascending=False))\n"
   ]
  },
  {
   "cell_type": "code",
   "execution_count": 64,
   "metadata": {},
   "outputs": [
    {
     "name": "stdout",
     "output_type": "stream",
     "text": [
      "65.47472206607326\n",
      "56.341407003915876\n",
      "64.8609835911199\n"
     ]
    },
    {
     "data": {
      "image/png": "[encoded data removed]",
      "text/plain": [
       "<Figure size 640x480 with 1 Axes>"
      ]
     },
     "metadata": {},
     "output_type": "display_data"
    }
   ],
   "source": [
    "# Group by unattributed provider and calculate skip rate\n",
    "skip_rates_un = df_data.groupby('unattributed_provider')['preventive_visit_gap_ind'].mean() * 100\n",
    "skip_rate_unattributed = skip_rates_un.loc[1.0]\n",
    "print(skip_rate_unattributed)\n",
    "\n",
    "# Group by generic grouper and calculate skip rate\n",
    "skip_rates_ge = df_data.groupby('generic_grouper')['preventive_visit_gap_ind'].mean() * 100\n",
    "skip_rate_generic = skip_rates_ge.loc[1.0]\n",
    "print(skip_rate_generic)\n",
    "\n",
    "# Group by veteran and calculate skip rate\n",
    "skip_rates_ve = df_data.groupby('veteran_ind')['preventive_visit_gap_ind'].mean() * 100\n",
    "skip_rate_generic = skip_rates_ve.loc[1.0]\n",
    "print(skip_rate_generic)\n",
    "\n",
    "# Combine them into a list for plotting\n",
    "skip_rates = [skip_rate_unattributed, skip_rate_generic, skip_rate_veteran]\n",
    "labels = ['Unattributed Provider', 'Generic Grouper', 'Veteran']\n",
    "\n",
    "# Plot the bar chart\n",
    "import matplotlib.pyplot as plt\n",
    "plt.bar(labels, skip_rates)\n",
    "plt.ylabel('Preventive Skip Rate (%)')\n",
    "plt.title('Preventive Medicine Skip Likelihood Across Segments')\n",
    "plt.show()"
   ]
  },
  {
   "cell_type": "code",
   "execution_count": 86,
   "metadata": {},
   "outputs": [
    {
     "name": "stdout",
     "output_type": "stream",
     "text": [
      "age                                   71.049978\n",
      "all_mm_tenure                         37.655681\n",
      "cms_tot_ma_payment_amt               773.656533\n",
      "cms_tot_partd_payment_amt            127.368782\n",
      "cnt_cp_webstatement_pmpm_ct            2.170335\n",
      "comp_physical_exam                     0.017074\n",
      "compliant_cnt                          0.738048\n",
      "consec_tenure_month                   35.065903\n",
      "days_since_last_clm                  147.276705\n",
      "riskarr_downside                       0.017463\n",
      "rx_days_since_last_script            160.093157\n",
      "total_allowed_pmpm_cost              466.558632\n",
      "total_net_paid_pmpm_cost             412.578542\n",
      "measure_type_Patient Experience        0.203865\n",
      "preventative_visit                     0.032252\n",
      "rwjf_median_house_income           60231.130869\n",
      "dtype: float64\n",
      "age                                   71.553938\n",
      "all_mm_tenure                         48.150998\n",
      "cms_tot_ma_payment_amt               888.789450\n",
      "cms_tot_partd_payment_amt            155.515662\n",
      "cnt_cp_webstatement_pmpm_ct            2.759930\n",
      "comp_physical_exam                     0.020980\n",
      "compliant_cnt                          0.741365\n",
      "consec_tenure_month                   44.862876\n",
      "days_since_last_clm                   95.949681\n",
      "riskarr_downside                       0.013151\n",
      "rx_days_since_last_script            102.109772\n",
      "total_allowed_pmpm_cost              605.906685\n",
      "total_net_paid_pmpm_cost             536.301359\n",
      "measure_type_Patient Experience        0.372401\n",
      "preventative_visit                     0.038924\n",
      "rwjf_median_house_income           57356.877716\n",
      "dtype: float64\n",
      "age                                   74.329820\n",
      "all_mm_tenure                         54.856352\n",
      "cms_tot_ma_payment_amt               876.009923\n",
      "cms_tot_partd_payment_amt             82.368848\n",
      "cnt_cp_webstatement_pmpm_ct            2.228240\n",
      "comp_physical_exam                     0.002501\n",
      "compliant_cnt                          0.769387\n",
      "consec_tenure_month                   50.493638\n",
      "days_since_last_clm                  136.085523\n",
      "riskarr_downside                       0.080691\n",
      "rx_days_since_last_script            207.111966\n",
      "total_allowed_pmpm_cost              487.787840\n",
      "total_net_paid_pmpm_cost             434.949117\n",
      "measure_type_Patient Experience        0.338006\n",
      "preventative_visit                     0.005550\n",
      "rwjf_median_house_income           59318.967194\n",
      "dtype: float64\n"
     ]
    }
   ],
   "source": [
    "high_risk_group = df_data[df_data['unattributed_provider'] == 1]\n",
    "high_risk_summary = high_risk_group[[\n",
    "    'age', 'all_mm_tenure', 'cms_tot_ma_payment_amt', 'cms_tot_partd_payment_amt',\n",
    "    'cnt_cp_webstatement_pmpm_ct', 'comp_physical_exam', 'compliant_cnt', 'consec_tenure_month',\n",
    "    'days_since_last_clm', 'riskarr_downside',\n",
    "    'rx_days_since_last_script',\n",
    "    'total_allowed_pmpm_cost','total_net_paid_pmpm_cost', 'measure_type_Patient Experience', 'preventative_visit', 'rwjf_median_house_income'\n",
    "]].mean()\n",
    "print(high_risk_summary)\n",
    "\n",
    "high_risk_group = df_data[df_data['generic_grouper'] == 1]\n",
    "high_risk_summary = high_risk_group[[\n",
    "    'age', 'all_mm_tenure', 'cms_tot_ma_payment_amt', 'cms_tot_partd_payment_amt',\n",
    "    'cnt_cp_webstatement_pmpm_ct', 'comp_physical_exam', 'compliant_cnt', 'consec_tenure_month',\n",
    "    'days_since_last_clm', 'riskarr_downside',\n",
    "    'rx_days_since_last_script',\n",
    "    'total_allowed_pmpm_cost','total_net_paid_pmpm_cost', 'measure_type_Patient Experience', 'preventative_visit', 'rwjf_median_house_income'\n",
    "]].mean()\n",
    "print(high_risk_summary)\n",
    "\n",
    "high_risk_group = df_data[df_data['veteran_ind'] == 1]\n",
    "high_risk_summary = high_risk_group[[\n",
    "    'age', 'all_mm_tenure', 'cms_tot_ma_payment_amt', 'cms_tot_partd_payment_amt',\n",
    "    'cnt_cp_webstatement_pmpm_ct', 'comp_physical_exam', 'compliant_cnt', 'consec_tenure_month',\n",
    "    'days_since_last_clm', 'riskarr_downside',\n",
    "    'rx_days_since_last_script',\n",
    "    'total_allowed_pmpm_cost','total_net_paid_pmpm_cost', 'measure_type_Patient Experience', 'preventative_visit', 'rwjf_median_house_income'\n",
    "]].mean()\n",
    "print(high_risk_summary)"
   ]
  },
  {
   "cell_type": "code",
   "execution_count": 127,
   "metadata": {},
   "outputs": [
    {
     "name": "stdout",
     "output_type": "stream",
     "text": [
      "Overall Summary:\n",
      "age                                   72.314617\n",
      "all_mm_tenure                         53.933186\n",
      "cms_tot_ma_payment_amt               935.205270\n",
      "cms_tot_partd_payment_amt            152.482784\n",
      "cnt_cp_webstatement_pmpm_ct            3.030294\n",
      "comp_physical_exam                     0.024404\n",
      "compliant_cnt                          0.770385\n",
      "consec_tenure_month                   50.395338\n",
      "days_since_last_clm                   74.419397\n",
      "riskarr_downside                       0.094304\n",
      "rx_days_since_last_script             77.936202\n",
      "total_allowed_pmpm_cost              650.807787\n",
      "total_net_paid_pmpm_cost             578.181711\n",
      "measure_type_Patient Experience        0.439628\n",
      "preventative_visit                     0.046251\n",
      "rwjf_median_house_income           59724.559710\n",
      "pcp_visit                              0.010003\n",
      "dtype: float64\n",
      "\n",
      "Non-Skip Preventive Medicine Group Summary:\n",
      "age                                   72.570405\n",
      "all_mm_tenure                         55.352307\n",
      "cms_tot_ma_payment_amt               935.043890\n",
      "cms_tot_partd_payment_amt            151.251703\n",
      "cnt_cp_webstatement_pmpm_ct            3.245143\n",
      "comp_physical_exam                     0.034684\n",
      "compliant_cnt                          0.801342\n",
      "consec_tenure_month                   51.874804\n",
      "days_since_last_clm                   53.479429\n",
      "riskarr_downside                       0.125884\n",
      "rx_days_since_last_script             51.632468\n",
      "total_allowed_pmpm_cost              657.418387\n",
      "total_net_paid_pmpm_cost             584.705577\n",
      "measure_type_Patient Experience        0.496784\n",
      "preventative_visit                     0.064980\n",
      "rwjf_median_house_income           60204.602061\n",
      "pcp_visit                              0.011178\n",
      "dtype: float64\n"
     ]
    }
   ],
   "source": [
    "# Calculate the overall average for all individuals\n",
    "overall_summary = df_data[[\n",
    "    'age', 'all_mm_tenure', 'cms_tot_ma_payment_amt', 'cms_tot_partd_payment_amt',\n",
    "    'cnt_cp_webstatement_pmpm_ct', 'comp_physical_exam', 'compliant_cnt', 'consec_tenure_month',\n",
    "    'days_since_last_clm', 'riskarr_downside', 'rx_days_since_last_script',\n",
    "    'total_allowed_pmpm_cost', 'total_net_paid_pmpm_cost', 'measure_type_Patient Experience', 'preventative_visit', 'rwjf_median_house_income', 'pcp_visit'\n",
    "]].mean()\n",
    "print(\"Overall Summary:\")\n",
    "print(overall_summary)\n",
    "\n",
    "# Calculate the average for individuals who did NOT skip preventive medicine (preventive_visit_gap_ind == 0)\n",
    "non_skip_group = df_data[df_data['preventive_visit_gap_ind'] == 0]\n",
    "non_skip_summary = non_skip_group[[\n",
    "    'age', 'all_mm_tenure', 'cms_tot_ma_payment_amt', 'cms_tot_partd_payment_amt',\n",
    "    'cnt_cp_webstatement_pmpm_ct', 'comp_physical_exam', 'compliant_cnt', 'consec_tenure_month',\n",
    "    'days_since_last_clm', 'riskarr_downside', 'rx_days_since_last_script',\n",
    "    'total_allowed_pmpm_cost', 'total_net_paid_pmpm_cost', 'measure_type_Patient Experience', 'preventative_visit', 'rwjf_median_house_income', 'pcp_visit'\n",
    "]].mean()\n",
    "print(\"\\nNon-Skip Preventive Medicine Group Summary:\")\n",
    "print(non_skip_summary)\n",
    "\n",
    "comparison_summary = pd.DataFrame({\n",
    "    'Overall Average': overall_summary,\n",
    "    'Non-Skip Average': non_skip_summary\n",
    "})"
   ]
  },
  {
   "cell_type": "code",
   "execution_count": 126,
   "metadata": {},
   "outputs": [
    {
     "data": {
      "text/html": [
       "<div>\n",
       "<style scoped>\n",
       "    .dataframe tbody tr th:only-of-type {\n",
       "        vertical-align: middle;\n",
       "    }\n",
       "\n",
       "    .dataframe tbody tr th {\n",
       "        vertical-align: top;\n",
       "    }\n",
       "\n",
       "    .dataframe thead th {\n",
       "        text-align: right;\n",
       "    }\n",
       "</style>\n",
       "<table border=\"1\" class=\"dataframe\">\n",
       "  <thead>\n",
       "    <tr style=\"text-align: right;\">\n",
       "      <th></th>\n",
       "      <th>U</th>\n",
       "      <th>G</th>\n",
       "      <th>V</th>\n",
       "      <th>count</th>\n",
       "      <th>skip_count</th>\n",
       "      <th>skip_rate</th>\n",
       "      <th>age</th>\n",
       "      <th>all_mm_tenure</th>\n",
       "      <th>cms_tot_ma_payment_amt</th>\n",
       "      <th>cms_tot_partd_payment_amt</th>\n",
       "      <th>cnt_cp_webstatement_pmpm_ct</th>\n",
       "      <th>comp_physical_exam</th>\n",
       "      <th>compliant_cnt</th>\n",
       "      <th>consec_tenure_month</th>\n",
       "      <th>days_since_last_clm</th>\n",
       "      <th>riskarr_downside</th>\n",
       "      <th>rx_days_since_last_script</th>\n",
       "      <th>total_allowed_pmpm_cost</th>\n",
       "      <th>total_net_paid_pmpm_cost</th>\n",
       "      <th>measure_type_Patient Experience</th>\n",
       "      <th>preventative_visit</th>\n",
       "      <th>rwjf_median_house_income</th>\n",
       "      <th>pcp_visit</th>\n",
       "    </tr>\n",
       "  </thead>\n",
       "  <tbody>\n",
       "    <tr>\n",
       "      <th>0</th>\n",
       "      <td>0</td>\n",
       "      <td>0</td>\n",
       "      <td>0</td>\n",
       "      <td>818123</td>\n",
       "      <td>291950</td>\n",
       "      <td>0.356853</td>\n",
       "      <td>72.618785</td>\n",
       "      <td>57.583268</td>\n",
       "      <td>967.474618</td>\n",
       "      <td>155.808321</td>\n",
       "      <td>3.269677</td>\n",
       "      <td>0.029179</td>\n",
       "      <td>0.790883</td>\n",
       "      <td>53.978122</td>\n",
       "      <td>55.950305</td>\n",
       "      <td>0.149783</td>\n",
       "      <td>51.319577</td>\n",
       "      <td>691.238357</td>\n",
       "      <td>615.390081</td>\n",
       "      <td>0.490105</td>\n",
       "      <td>0.055811</td>\n",
       "      <td>61359.610984</td>\n",
       "      <td>0.010080</td>\n",
       "    </tr>\n",
       "    <tr>\n",
       "      <th>1</th>\n",
       "      <td>0</td>\n",
       "      <td>0</td>\n",
       "      <td>1</td>\n",
       "      <td>81699</td>\n",
       "      <td>41147</td>\n",
       "      <td>0.503641</td>\n",
       "      <td>75.099634</td>\n",
       "      <td>61.913316</td>\n",
       "      <td>972.352715</td>\n",
       "      <td>96.770020</td>\n",
       "      <td>2.737903</td>\n",
       "      <td>0.003072</td>\n",
       "      <td>0.788359</td>\n",
       "      <td>57.121213</td>\n",
       "      <td>92.753950</td>\n",
       "      <td>0.160173</td>\n",
       "      <td>157.909436</td>\n",
       "      <td>598.624780</td>\n",
       "      <td>534.191057</td>\n",
       "      <td>0.453408</td>\n",
       "      <td>0.006818</td>\n",
       "      <td>61183.535111</td>\n",
       "      <td>0.007369</td>\n",
       "    </tr>\n",
       "    <tr>\n",
       "      <th>2</th>\n",
       "      <td>0</td>\n",
       "      <td>1</td>\n",
       "      <td>0</td>\n",
       "      <td>344761</td>\n",
       "      <td>169249</td>\n",
       "      <td>0.490917</td>\n",
       "      <td>71.599827</td>\n",
       "      <td>54.430794</td>\n",
       "      <td>965.385705</td>\n",
       "      <td>180.816427</td>\n",
       "      <td>3.196100</td>\n",
       "      <td>0.025615</td>\n",
       "      <td>0.742632</td>\n",
       "      <td>50.804105</td>\n",
       "      <td>58.826703</td>\n",
       "      <td>0.011306</td>\n",
       "      <td>54.023486</td>\n",
       "      <td>707.282309</td>\n",
       "      <td>625.888605</td>\n",
       "      <td>0.486502</td>\n",
       "      <td>0.047059</td>\n",
       "      <td>55549.466335</td>\n",
       "      <td>0.011846</td>\n",
       "    </tr>\n",
       "    <tr>\n",
       "      <th>3</th>\n",
       "      <td>0</td>\n",
       "      <td>1</td>\n",
       "      <td>1</td>\n",
       "      <td>36050</td>\n",
       "      <td>22814</td>\n",
       "      <td>0.632843</td>\n",
       "      <td>74.610319</td>\n",
       "      <td>59.903051</td>\n",
       "      <td>938.147728</td>\n",
       "      <td>104.566214</td>\n",
       "      <td>2.573227</td>\n",
       "      <td>0.003079</td>\n",
       "      <td>0.751698</td>\n",
       "      <td>55.081692</td>\n",
       "      <td>101.391068</td>\n",
       "      <td>0.006768</td>\n",
       "      <td>165.899584</td>\n",
       "      <td>575.228881</td>\n",
       "      <td>513.115280</td>\n",
       "      <td>0.431706</td>\n",
       "      <td>0.006963</td>\n",
       "      <td>55765.589542</td>\n",
       "      <td>0.009015</td>\n",
       "    </tr>\n",
       "    <tr>\n",
       "      <th>4</th>\n",
       "      <td>1</td>\n",
       "      <td>0</td>\n",
       "      <td>0</td>\n",
       "      <td>993</td>\n",
       "      <td>612</td>\n",
       "      <td>0.616314</td>\n",
       "      <td>72.600201</td>\n",
       "      <td>42.534743</td>\n",
       "      <td>651.855347</td>\n",
       "      <td>96.723797</td>\n",
       "      <td>0.951431</td>\n",
       "      <td>0.011078</td>\n",
       "      <td>0.727231</td>\n",
       "      <td>40.067472</td>\n",
       "      <td>163.572004</td>\n",
       "      <td>0.194361</td>\n",
       "      <td>132.854985</td>\n",
       "      <td>80.422909</td>\n",
       "      <td>70.681032</td>\n",
       "      <td>0.210473</td>\n",
       "      <td>0.045317</td>\n",
       "      <td>83772.028197</td>\n",
       "      <td>0.015106</td>\n",
       "    </tr>\n",
       "    <tr>\n",
       "      <th>5</th>\n",
       "      <td>1</td>\n",
       "      <td>0</td>\n",
       "      <td>1</td>\n",
       "      <td>154</td>\n",
       "      <td>127</td>\n",
       "      <td>0.824675</td>\n",
       "      <td>73.824675</td>\n",
       "      <td>42.175325</td>\n",
       "      <td>583.666234</td>\n",
       "      <td>54.623442</td>\n",
       "      <td>0.486693</td>\n",
       "      <td>0.000000</td>\n",
       "      <td>0.763689</td>\n",
       "      <td>38.025974</td>\n",
       "      <td>239.733766</td>\n",
       "      <td>0.142857</td>\n",
       "      <td>286.694805</td>\n",
       "      <td>18.243287</td>\n",
       "      <td>14.395608</td>\n",
       "      <td>0.129870</td>\n",
       "      <td>0.012987</td>\n",
       "      <td>83319.948052</td>\n",
       "      <td>0.006494</td>\n",
       "    </tr>\n",
       "    <tr>\n",
       "      <th>6</th>\n",
       "      <td>1</td>\n",
       "      <td>1</td>\n",
       "      <td>0</td>\n",
       "      <td>194119</td>\n",
       "      <td>115045</td>\n",
       "      <td>0.592652</td>\n",
       "      <td>70.536851</td>\n",
       "      <td>36.916268</td>\n",
       "      <td>798.865172</td>\n",
       "      <td>149.800169</td>\n",
       "      <td>2.439582</td>\n",
       "      <td>0.021368</td>\n",
       "      <td>0.734383</td>\n",
       "      <td>34.536351</td>\n",
       "      <td>125.520248</td>\n",
       "      <td>0.019292</td>\n",
       "      <td>119.237236</td>\n",
       "      <td>525.716444</td>\n",
       "      <td>464.600934</td>\n",
       "      <td>0.233759</td>\n",
       "      <td>0.040156</td>\n",
       "      <td>60480.645362</td>\n",
       "      <td>0.009535</td>\n",
       "    </tr>\n",
       "    <tr>\n",
       "      <th>7</th>\n",
       "      <td>1</td>\n",
       "      <td>1</td>\n",
       "      <td>1</td>\n",
       "      <td>52005</td>\n",
       "      <td>46116</td>\n",
       "      <td>0.886761</td>\n",
       "      <td>72.927507</td>\n",
       "      <td>40.309143</td>\n",
       "      <td>682.448597</td>\n",
       "      <td>44.439733</td>\n",
       "      <td>1.193579</td>\n",
       "      <td>0.001211</td>\n",
       "      <td>0.751860</td>\n",
       "      <td>36.938294</td>\n",
       "      <td>227.902067</td>\n",
       "      <td>0.006884</td>\n",
       "      <td>312.741198</td>\n",
       "      <td>254.440917</td>\n",
       "      <td>226.102041</td>\n",
       "      <td>0.092376</td>\n",
       "      <td>0.002557</td>\n",
       "      <td>58781.899202</td>\n",
       "      <td>0.003057</td>\n",
       "    </tr>\n",
       "  </tbody>\n",
       "</table>\n",
       "</div>"
      ],
      "text/plain": [
       "   U  G  V   count  skip_count  skip_rate        age  all_mm_tenure  \\\n",
       "0  0  0  0  818123      291950   0.356853  72.618785      57.583268   \n",
       "1  0  0  1   81699       41147   0.503641  75.099634      61.913316   \n",
       "2  0  1  0  344761      169249   0.490917  71.599827      54.430794   \n",
       "3  0  1  1   36050       22814   0.632843  74.610319      59.903051   \n",
       "4  1  0  0     993         612   0.616314  72.600201      42.534743   \n",
       "5  1  0  1     154         127   0.824675  73.824675      42.175325   \n",
       "6  1  1  0  194119      115045   0.592652  70.536851      36.916268   \n",
       "7  1  1  1   52005       46116   0.886761  72.927507      40.309143   \n",
       "\n",
       "   cms_tot_ma_payment_amt  cms_tot_partd_payment_amt  \\\n",
       "0              967.474618                 155.808321   \n",
       "1              972.352715                  96.770020   \n",
       "2              965.385705                 180.816427   \n",
       "3              938.147728                 104.566214   \n",
       "4              651.855347                  96.723797   \n",
       "5              583.666234                  54.623442   \n",
       "6              798.865172                 149.800169   \n",
       "7              682.448597                  44.439733   \n",
       "\n",
       "   cnt_cp_webstatement_pmpm_ct  comp_physical_exam  compliant_cnt  \\\n",
       "0                     3.269677            0.029179       0.790883   \n",
       "1                     2.737903            0.003072       0.788359   \n",
       "2                     3.196100            0.025615       0.742632   \n",
       "3                     2.573227            0.003079       0.751698   \n",
       "4                     0.951431            0.011078       0.727231   \n",
       "5                     0.486693            0.000000       0.763689   \n",
       "6                     2.439582            0.021368       0.734383   \n",
       "7                     1.193579            0.001211       0.751860   \n",
       "\n",
       "   consec_tenure_month  days_since_last_clm  riskarr_downside  \\\n",
       "0            53.978122            55.950305          0.149783   \n",
       "1            57.121213            92.753950          0.160173   \n",
       "2            50.804105            58.826703          0.011306   \n",
       "3            55.081692           101.391068          0.006768   \n",
       "4            40.067472           163.572004          0.194361   \n",
       "5            38.025974           239.733766          0.142857   \n",
       "6            34.536351           125.520248          0.019292   \n",
       "7            36.938294           227.902067          0.006884   \n",
       "\n",
       "   rx_days_since_last_script  total_allowed_pmpm_cost  \\\n",
       "0                  51.319577               691.238357   \n",
       "1                 157.909436               598.624780   \n",
       "2                  54.023486               707.282309   \n",
       "3                 165.899584               575.228881   \n",
       "4                 132.854985                80.422909   \n",
       "5                 286.694805                18.243287   \n",
       "6                 119.237236               525.716444   \n",
       "7                 312.741198               254.440917   \n",
       "\n",
       "   total_net_paid_pmpm_cost  measure_type_Patient Experience  \\\n",
       "0                615.390081                         0.490105   \n",
       "1                534.191057                         0.453408   \n",
       "2                625.888605                         0.486502   \n",
       "3                513.115280                         0.431706   \n",
       "4                 70.681032                         0.210473   \n",
       "5                 14.395608                         0.129870   \n",
       "6                464.600934                         0.233759   \n",
       "7                226.102041                         0.092376   \n",
       "\n",
       "   preventative_visit  rwjf_median_house_income  pcp_visit  \n",
       "0            0.055811              61359.610984   0.010080  \n",
       "1            0.006818              61183.535111   0.007369  \n",
       "2            0.047059              55549.466335   0.011846  \n",
       "3            0.006963              55765.589542   0.009015  \n",
       "4            0.045317              83772.028197   0.015106  \n",
       "5            0.012987              83319.948052   0.006494  \n",
       "6            0.040156              60480.645362   0.009535  \n",
       "7            0.002557              58781.899202   0.003057  "
      ]
     },
     "metadata": {},
     "output_type": "display_data"
    }
   ],
   "source": [
    "import pandas as pd\n",
    "import itertools\n",
    "\n",
    "feature_columns = [\n",
    "    'age', 'all_mm_tenure', 'cms_tot_ma_payment_amt', 'cms_tot_partd_payment_amt',\n",
    "    'cnt_cp_webstatement_pmpm_ct', 'comp_physical_exam', 'compliant_cnt', 'consec_tenure_month',\n",
    "    'days_since_last_clm', 'riskarr_downside', 'rx_days_since_last_script',\n",
    "    'total_allowed_pmpm_cost', 'total_net_paid_pmpm_cost', 'measure_type_Patient Experience', 'preventative_visit', 'rwjf_median_house_income', 'pcp_visit'\n",
    "]\n",
    "\n",
    "combinations = list(itertools.product([0, 1], repeat=3))\n",
    "\n",
    "results_df = pd.DataFrame()\n",
    "\n",
    "for comb in combinations:\n",
    "    U, G, V = comb\n",
    "    # Filter the dataset based on the combination of U, G, and V\n",
    "    group = df_data[(df_data['unattributed_provider'] == U) & \n",
    "                    (df_data['generic_grouper'] == G) & \n",
    "                    (df_data['veteran_ind'] == V)]\n",
    "    \n",
    "    group_summary = group[feature_columns].mean()\n",
    "    \n",
    "    total_count = group.shape[0]\n",
    "    \n",
    "    skip_count = group[group['preventive_visit_gap_ind'] == 1].shape[0]\n",
    "    \n",
    "    skip_rate = skip_count / total_count if total_count > 0 else 0  # Handle division by zero\n",
    "\n",
    "    group_summary = pd.DataFrame(group_summary).T  # Transpose the Series to a row\n",
    "    group_summary['U'] = U\n",
    "    group_summary['G'] = G\n",
    "    group_summary['V'] = V\n",
    "    group_summary['count'] = total_count\n",
    "    group_summary['skip_count'] = skip_count\n",
    "    group_summary['skip_rate'] = skip_rate\n",
    "    \n",
    "    results_df = pd.concat([results_df, group_summary], ignore_index=True)\n",
    "\n",
    "columns_order = ['U', 'G', 'V', 'count', 'skip_count', 'skip_rate'] + feature_columns\n",
    "results_df = results_df[columns_order]\n",
    "\n",
    "display(results_df)  "
   ]
  },
  {
   "cell_type": "code",
   "execution_count": 108,
   "metadata": {},
   "outputs": [
    {
     "name": "stdout",
     "output_type": "stream",
     "text": [
      "Requirement already satisfied: plotly in /opt/anaconda3/lib/python3.12/site-packages (5.22.0)\n",
      "Requirement already satisfied: tenacity>=6.2.0 in /opt/anaconda3/lib/python3.12/site-packages (from plotly) (8.2.2)\n",
      "Requirement already satisfied: packaging in /opt/anaconda3/lib/python3.12/site-packages (from plotly) (23.2)\n"
     ]
    }
   ],
   "source": [
    "!pip install plotly"
   ]
  },
  {
   "cell_type": "code",
   "execution_count": 110,
   "metadata": {},
   "outputs": [
    {
     "name": "stdout",
     "output_type": "stream",
     "text": [
      "   state  count_group1  count_group2  count_group3\n",
      "0     AK             4            57             6\n",
      "1     AL          8860          3024          1698\n",
      "2     AR          3405          1227           742\n",
      "3     AZ          4992          3853          1360\n",
      "4     CA           273          1129            71\n",
      "5     CO          5626          5493          1721\n",
      "6     CT           296           648            61\n",
      "7     DC             4            32             2\n",
      "8     DE           366           278           161\n",
      "9     FL         35059         11292          1879\n",
      "10    GA         20372         15554          3750\n",
      "11    GU             0             0             0\n",
      "12    HI            20            85             6\n",
      "13    IA          2149          1559           680\n",
      "14    ID           467           961           306\n",
      "15    IL          5017          5557           927\n",
      "16    IN          6580          5546          1645\n",
      "17    KS          2401          1445           583\n",
      "18    KY         24259          7923          2108\n",
      "19    LA          3244          1383           939\n",
      "20    MA           259           874           118\n",
      "21    MD          2855          1660           315\n",
      "22    ME           754           555           172\n",
      "23    MI         17175         13213          2623\n",
      "24    MN          5803          4658          2364\n",
      "25    MO          3224          1854           841\n",
      "26    MS         13589          4081          1219\n",
      "27    MT          3951          2095           922\n",
      "28    NC         26079         22440          3011\n",
      "29    ND            96           259           171\n",
      "30    NE           181           418           223\n",
      "31    NH           886          1153           300\n",
      "32    NJ          2860          3251           551\n",
      "33    NM          8022          3860           976\n",
      "34    NV          2898          1743           637\n",
      "35    NY          8747          7504          1161\n",
      "36    OH         11272          7794          1977\n",
      "37    OK         10364          5034          1142\n",
      "38    OR           684          1178           314\n",
      "39    PA          9412          4631          1684\n",
      "40    PR           311            84             5\n",
      "41    RI             8            44             4\n",
      "42    SC         10599          7056          2896\n",
      "43    SD           809           657           393\n",
      "44    TN          3728          1581           449\n",
      "45    TX         49592         13047          4463\n",
      "46    UT           975           984           175\n",
      "47    VA          5674          5108          1114\n",
      "48    VT            83           149            25\n",
      "49    WA          1103          2783           710\n",
      "50    WI          2463          2791           743\n",
      "51    WV         16863          4430          1654\n",
      "52    WY            45            96             8\n"
     ]
    },
    {
     "data": {
      "application/vnd.plotly.v1+json": {
       "config": {
        "plotlyServerURL": "https://plot.ly"
       },
       "data": [
        {
         "coloraxis": "coloraxis",
         "geo": "geo",
         "hovertemplate": "state=%{location}<br>count_group1=%{z}<extra></extra>",
         "locationmode": "USA-states",
         "locations": [
          "AK",
          "AL",
          "AR",
          "AZ",
          "CA",
          "CO",
          "CT",
          "DC",
          "DE",
          "FL",
          "GA",
          "GU",
          "HI",
          "IA",
          "ID",
          "IL",
          "IN",
          "KS",
          "KY",
          "LA",
          "MA",
          "MD",
          "ME",
          "MI",
          "MN",
          "MO",
          "MS",
          "MT",
          "NC",
          "ND",
          "NE",
          "NH",
          "NJ",
          "NM",
          "NV",
          "NY",
          "OH",
          "OK",
          "OR",
          "PA",
          "PR",
          "RI",
          "SC",
          "SD",
          "TN",
          "TX",
          "UT",
          "VA",
          "VT",
          "WA",
          "WI",
          "WV",
          "WY"
         ],
         "name": "",
         "type": "choropleth",
         "z": [
          4,
          8860,
          3405,
          4992,
          273,
          5626,
          296,
          4,
          366,
          35059,
          20372,
          0,
          20,
          2149,
          467,
          5017,
          6580,
          2401,
          24259,
          3244,
          259,
          2855,
          754,
          17175,
          5803,
          3224,
          13589,
          3951,
          26079,
          96,
          181,
          886,
          2860,
          8022,
          2898,
          8747,
          11272,
          10364,
          684,
          9412,
          311,
          8,
          10599,
          809,
          3728,
          49592,
          975,
          5674,
          83,
          1103,
          2463,
          16863,
          45
         ]
        }
       ],
       "layout": {
        "coloraxis": {
         "colorbar": {
          "title": {
           "text": "count_group1"
          }
         },
         "colorscale": [
          [
           0,
           "rgb(247,251,255)"
          ],
          [
           0.125,
           "rgb(222,235,247)"
          ],
          [
           0.25,
           "rgb(198,219,239)"
          ],
          [
           0.375,
           "rgb(158,202,225)"
          ],
          [
           0.5,
           "rgb(107,174,214)"
          ],
          [
           0.625,
           "rgb(66,146,198)"
          ],
          [
           0.75,
           "rgb(33,113,181)"
          ],
          [
           0.875,
           "rgb(8,81,156)"
          ],
          [
           1,
           "rgb(8,48,107)"
          ]
         ]
        },
        "geo": {
         "center": {},
         "domain": {
          "x": [
           0,
           1
          ],
          "y": [
           0,
           1
          ]
         },
         "scope": "usa"
        },
        "legend": {
         "tracegroupgap": 0
        },
        "template": {
         "data": {
          "bar": [
           {
            "error_x": {
             "color": "#2a3f5f"
            },
            "error_y": {
             "color": "#2a3f5f"
            },
            "marker": {
             "line": {
              "color": "#E5ECF6",
              "width": 0.5
             },
             "pattern": {
              "fillmode": "overlay",
              "size": 10,
              "solidity": 0.2
             }
            },
            "type": "bar"
           }
          ],
          "barpolar": [
           {
            "marker": {
             "line": {
              "color": "#E5ECF6",
              "width": 0.5
             },
             "pattern": {
              "fillmode": "overlay",
              "size": 10,
              "solidity": 0.2
             }
            },
            "type": "barpolar"
           }
          ],
          "carpet": [
           {
            "aaxis": {
             "endlinecolor": "#2a3f5f",
             "gridcolor": "white",
             "linecolor": "white",
             "minorgridcolor": "white",
             "startlinecolor": "#2a3f5f"
            },
            "baxis": {
             "endlinecolor": "#2a3f5f",
             "gridcolor": "white",
             "linecolor": "white",
             "minorgridcolor": "white",
             "startlinecolor": "#2a3f5f"
            },
            "type": "carpet"
           }
          ],
          "choropleth": [
           {
            "colorbar": {
             "outlinewidth": 0,
             "ticks": ""
            },
            "type": "choropleth"
           }
          ],
          "contour": [
           {
            "colorbar": {
             "outlinewidth": 0,
             "ticks": ""
            },
            "colorscale": [
             [
              0,
              "#0d0887"
             ],
             [
              0.1111111111111111,
              "#46039f"
             ],
             [
              0.2222222222222222,
              "#7201a8"
             ],
             [
              0.3333333333333333,
              "#9c179e"
             ],
             [
              0.4444444444444444,
              "#bd3786"
             ],
             [
              0.5555555555555556,
              "#d8576b"
             ],
             [
              0.6666666666666666,
              "#ed7953"
             ],
             [
              0.7777777777777778,
              "#fb9f3a"
             ],
             [
              0.8888888888888888,
              "#fdca26"
             ],
             [
              1,
              "#f0f921"
             ]
            ],
            "type": "contour"
           }
          ],
          "contourcarpet": [
           {
            "colorbar": {
             "outlinewidth": 0,
             "ticks": ""
            },
            "type": "contourcarpet"
           }
          ],
          "heatmap": [
           {
            "colorbar": {
             "outlinewidth": 0,
             "ticks": ""
            },
            "colorscale": [
             [
              0,
              "#0d0887"
             ],
             [
              0.1111111111111111,
              "#46039f"
             ],
             [
              0.2222222222222222,
              "#7201a8"
             ],
             [
              0.3333333333333333,
              "#9c179e"
             ],
             [
              0.4444444444444444,
              "#bd3786"
             ],
             [
              0.5555555555555556,
              "#d8576b"
             ],
             [
              0.6666666666666666,
              "#ed7953"
             ],
             [
              0.7777777777777778,
              "#fb9f3a"
             ],
             [
              0.8888888888888888,
              "#fdca26"
             ],
             [
              1,
              "#f0f921"
             ]
            ],
            "type": "heatmap"
           }
          ],
          "heatmapgl": [
           {
            "colorbar": {
             "outlinewidth": 0,
             "ticks": ""
            },
            "colorscale": [
             [
              0,
              "#0d0887"
             ],
             [
              0.1111111111111111,
              "#46039f"
             ],
             [
              0.2222222222222222,
              "#7201a8"
             ],
             [
              0.3333333333333333,
              "#9c179e"
             ],
             [
              0.4444444444444444,
              "#bd3786"
             ],
             [
              0.5555555555555556,
              "#d8576b"
             ],
             [
              0.6666666666666666,
              "#ed7953"
             ],
             [
              0.7777777777777778,
              "#fb9f3a"
             ],
             [
              0.8888888888888888,
              "#fdca26"
             ],
             [
              1,
              "#f0f921"
             ]
            ],
            "type": "heatmapgl"
           }
          ],
          "histogram": [
           {
            "marker": {
             "pattern": {
              "fillmode": "overlay",
              "size": 10,
              "solidity": 0.2
             }
            },
            "type": "histogram"
           }
          ],
          "histogram2d": [
           {
            "colorbar": {
             "outlinewidth": 0,
             "ticks": ""
            },
            "colorscale": [
             [
              0,
              "#0d0887"
             ],
             [
              0.1111111111111111,
              "#46039f"
             ],
             [
              0.2222222222222222,
              "#7201a8"
             ],
             [
              0.3333333333333333,
              "#9c179e"
             ],
             [
              0.4444444444444444,
              "#bd3786"
             ],
             [
              0.5555555555555556,
              "#d8576b"
             ],
             [
              0.6666666666666666,
              "#ed7953"
             ],
             [
              0.7777777777777778,
              "#fb9f3a"
             ],
             [
              0.8888888888888888,
              "#fdca26"
             ],
             [
              1,
              "#f0f921"
             ]
            ],
            "type": "histogram2d"
           }
          ],
          "histogram2dcontour": [
           {
            "colorbar": {
             "outlinewidth": 0,
             "ticks": ""
            },
            "colorscale": [
             [
              0,
              "#0d0887"
             ],
             [
              0.1111111111111111,
              "#46039f"
             ],
             [
              0.2222222222222222,
              "#7201a8"
             ],
             [
              0.3333333333333333,
              "#9c179e"
             ],
             [
              0.4444444444444444,
              "#bd3786"
             ],
             [
              0.5555555555555556,
              "#d8576b"
             ],
             [
              0.6666666666666666,
              "#ed7953"
             ],
             [
              0.7777777777777778,
              "#fb9f3a"
             ],
             [
              0.8888888888888888,
              "#fdca26"
             ],
             [
              1,
              "#f0f921"
             ]
            ],
            "type": "histogram2dcontour"
           }
          ],
          "mesh3d": [
           {
            "colorbar": {
             "outlinewidth": 0,
             "ticks": ""
            },
            "type": "mesh3d"
           }
          ],
          "parcoords": [
           {
            "line": {
             "colorbar": {
              "outlinewidth": 0,
              "ticks": ""
             }
            },
            "type": "parcoords"
           }
          ],
          "pie": [
           {
            "automargin": true,
            "type": "pie"
           }
          ],
          "scatter": [
           {
            "fillpattern": {
             "fillmode": "overlay",
             "size": 10,
             "solidity": 0.2
            },
            "type": "scatter"
           }
          ],
          "scatter3d": [
           {
            "line": {
             "colorbar": {
              "outlinewidth": 0,
              "ticks": ""
             }
            },
            "marker": {
             "colorbar": {
              "outlinewidth": 0,
              "ticks": ""
             }
            },
            "type": "scatter3d"
           }
          ],
          "scattercarpet": [
           {
            "marker": {
             "colorbar": {
              "outlinewidth": 0,
              "ticks": ""
             }
            },
            "type": "scattercarpet"
           }
          ],
          "scattergeo": [
           {
            "marker": {
             "colorbar": {
              "outlinewidth": 0,
              "ticks": ""
             }
            },
            "type": "scattergeo"
           }
          ],
          "scattergl": [
           {
            "marker": {
             "colorbar": {
              "outlinewidth": 0,
              "ticks": ""
             }
            },
            "type": "scattergl"
           }
          ],
          "scattermapbox": [
           {
            "marker": {
             "colorbar": {
              "outlinewidth": 0,
              "ticks": ""
             }
            },
            "type": "scattermapbox"
           }
          ],
          "scatterpolar": [
           {
            "marker": {
             "colorbar": {
              "outlinewidth": 0,
              "ticks": ""
             }
            },
            "type": "scatterpolar"
           }
          ],
          "scatterpolargl": [
           {
            "marker": {
             "colorbar": {
              "outlinewidth": 0,
              "ticks": ""
             }
            },
            "type": "scatterpolargl"
           }
          ],
          "scatterternary": [
           {
            "marker": {
             "colorbar": {
              "outlinewidth": 0,
              "ticks": ""
             }
            },
            "type": "scatterternary"
           }
          ],
          "surface": [
           {
            "colorbar": {
             "outlinewidth": 0,
             "ticks": ""
            },
            "colorscale": [
             [
              0,
              "#0d0887"
             ],
             [
              0.1111111111111111,
              "#46039f"
             ],
             [
              0.2222222222222222,
              "#7201a8"
             ],
             [
              0.3333333333333333,
              "#9c179e"
             ],
             [
              0.4444444444444444,
              "#bd3786"
             ],
             [
              0.5555555555555556,
              "#d8576b"
             ],
             [
              0.6666666666666666,
              "#ed7953"
             ],
             [
              0.7777777777777778,
              "#fb9f3a"
             ],
             [
              0.8888888888888888,
              "#fdca26"
             ],
             [
              1,
              "#f0f921"
             ]
            ],
            "type": "surface"
           }
          ],
          "table": [
           {
            "cells": {
             "fill": {
              "color": "#EBF0F8"
             },
             "line": {
              "color": "white"
             }
            },
            "header": {
             "fill": {
              "color": "#C8D4E3"
             },
             "line": {
              "color": "white"
             }
            },
            "type": "table"
           }
          ]
         },
         "layout": {
          "annotationdefaults": {
           "arrowcolor": "#2a3f5f",
           "arrowhead": 0,
           "arrowwidth": 1
          },
          "autotypenumbers": "strict",
          "coloraxis": {
           "colorbar": {
            "outlinewidth": 0,
            "ticks": ""
           }
          },
          "colorscale": {
           "diverging": [
            [
             0,
             "#8e0152"
            ],
            [
             0.1,
             "#c51b7d"
            ],
            [
             0.2,
             "#de77ae"
            ],
            [
             0.3,
             "#f1b6da"
            ],
            [
             0.4,
             "#fde0ef"
            ],
            [
             0.5,
             "#f7f7f7"
            ],
            [
             0.6,
             "#e6f5d0"
            ],
            [
             0.7,
             "#b8e186"
            ],
            [
             0.8,
             "#7fbc41"
            ],
            [
             0.9,
             "#4d9221"
            ],
            [
             1,
             "#276419"
            ]
           ],
           "sequential": [
            [
             0,
             "#0d0887"
            ],
            [
             0.1111111111111111,
             "#46039f"
            ],
            [
             0.2222222222222222,
             "#7201a8"
            ],
            [
             0.3333333333333333,
             "#9c179e"
            ],
            [
             0.4444444444444444,
             "#bd3786"
            ],
            [
             0.5555555555555556,
             "#d8576b"
            ],
            [
             0.6666666666666666,
             "#ed7953"
            ],
            [
             0.7777777777777778,
             "#fb9f3a"
            ],
            [
             0.8888888888888888,
             "#fdca26"
            ],
            [
             1,
             "#f0f921"
            ]
           ],
           "sequentialminus": [
            [
             0,
             "#0d0887"
            ],
            [
             0.1111111111111111,
             "#46039f"
            ],
            [
             0.2222222222222222,
             "#7201a8"
            ],
            [
             0.3333333333333333,
             "#9c179e"
            ],
            [
             0.4444444444444444,
             "#bd3786"
            ],
            [
             0.5555555555555556,
             "#d8576b"
            ],
            [
             0.6666666666666666,
             "#ed7953"
            ],
            [
             0.7777777777777778,
             "#fb9f3a"
            ],
            [
             0.8888888888888888,
             "#fdca26"
            ],
            [
             1,
             "#f0f921"
            ]
           ]
          },
          "colorway": [
           "#636efa",
           "#EF553B",
           "#00cc96",
           "#ab63fa",
           "#FFA15A",
           "#19d3f3",
           "#FF6692",
           "#B6E880",
           "#FF97FF",
           "#FECB52"
          ],
          "font": {
           "color": "#2a3f5f"
          },
          "geo": {
           "bgcolor": "white",
           "lakecolor": "white",
           "landcolor": "#E5ECF6",
           "showlakes": true,
           "showland": true,
           "subunitcolor": "white"
          },
          "hoverlabel": {
           "align": "left"
          },
          "hovermode": "closest",
          "mapbox": {
           "style": "light"
          },
          "paper_bgcolor": "white",
          "plot_bgcolor": "#E5ECF6",
          "polar": {
           "angularaxis": {
            "gridcolor": "white",
            "linecolor": "white",
            "ticks": ""
           },
           "bgcolor": "#E5ECF6",
           "radialaxis": {
            "gridcolor": "white",
            "linecolor": "white",
            "ticks": ""
           }
          },
          "scene": {
           "xaxis": {
            "backgroundcolor": "#E5ECF6",
            "gridcolor": "white",
            "gridwidth": 2,
            "linecolor": "white",
            "showbackground": true,
            "ticks": "",
            "zerolinecolor": "white"
           },
           "yaxis": {
            "backgroundcolor": "#E5ECF6",
            "gridcolor": "white",
            "gridwidth": 2,
            "linecolor": "white",
            "showbackground": true,
            "ticks": "",
            "zerolinecolor": "white"
           },
           "zaxis": {
            "backgroundcolor": "#E5ECF6",
            "gridcolor": "white",
            "gridwidth": 2,
            "linecolor": "white",
            "showbackground": true,
            "ticks": "",
            "zerolinecolor": "white"
           }
          },
          "shapedefaults": {
           "line": {
            "color": "#2a3f5f"
           }
          },
          "ternary": {
           "aaxis": {
            "gridcolor": "white",
            "linecolor": "white",
            "ticks": ""
           },
           "baxis": {
            "gridcolor": "white",
            "linecolor": "white",
            "ticks": ""
           },
           "bgcolor": "#E5ECF6",
           "caxis": {
            "gridcolor": "white",
            "linecolor": "white",
            "ticks": ""
           }
          },
          "title": {
           "x": 0.05
          },
          "xaxis": {
           "automargin": true,
           "gridcolor": "white",
           "linecolor": "white",
           "ticks": "",
           "title": {
            "standoff": 15
           },
           "zerolinecolor": "white",
           "zerolinewidth": 2
          },
          "yaxis": {
           "automargin": true,
           "gridcolor": "white",
           "linecolor": "white",
           "ticks": "",
           "title": {
            "standoff": 15
           },
           "zerolinecolor": "white",
           "zerolinewidth": 2
          }
         }
        },
        "title": {
         "text": "Group 1 (U=0, G=1, V=0) Distribution"
        }
       }
      }
     },
     "metadata": {},
     "output_type": "display_data"
    },
    {
     "data": {
      "application/vnd.plotly.v1+json": {
       "config": {
        "plotlyServerURL": "https://plot.ly"
       },
       "data": [
        {
         "coloraxis": "coloraxis",
         "geo": "geo",
         "hovertemplate": "state=%{location}<br>count_group2=%{z}<extra></extra>",
         "locationmode": "USA-states",
         "locations": [
          "AK",
          "AL",
          "AR",
          "AZ",
          "CA",
          "CO",
          "CT",
          "DC",
          "DE",
          "FL",
          "GA",
          "GU",
          "HI",
          "IA",
          "ID",
          "IL",
          "IN",
          "KS",
          "KY",
          "LA",
          "MA",
          "MD",
          "ME",
          "MI",
          "MN",
          "MO",
          "MS",
          "MT",
          "NC",
          "ND",
          "NE",
          "NH",
          "NJ",
          "NM",
          "NV",
          "NY",
          "OH",
          "OK",
          "OR",
          "PA",
          "PR",
          "RI",
          "SC",
          "SD",
          "TN",
          "TX",
          "UT",
          "VA",
          "VT",
          "WA",
          "WI",
          "WV",
          "WY"
         ],
         "name": "",
         "type": "choropleth",
         "z": [
          57,
          3024,
          1227,
          3853,
          1129,
          5493,
          648,
          32,
          278,
          11292,
          15554,
          0,
          85,
          1559,
          961,
          5557,
          5546,
          1445,
          7923,
          1383,
          874,
          1660,
          555,
          13213,
          4658,
          1854,
          4081,
          2095,
          22440,
          259,
          418,
          1153,
          3251,
          3860,
          1743,
          7504,
          7794,
          5034,
          1178,
          4631,
          84,
          44,
          7056,
          657,
          1581,
          13047,
          984,
          5108,
          149,
          2783,
          2791,
          4430,
          96
         ]
        }
       ],
       "layout": {
        "coloraxis": {
         "colorbar": {
          "title": {
           "text": "count_group2"
          }
         },
         "colorscale": [
          [
           0,
           "rgb(247,252,245)"
          ],
          [
           0.125,
           "rgb(229,245,224)"
          ],
          [
           0.25,
           "rgb(199,233,192)"
          ],
          [
           0.375,
           "rgb(161,217,155)"
          ],
          [
           0.5,
           "rgb(116,196,118)"
          ],
          [
           0.625,
           "rgb(65,171,93)"
          ],
          [
           0.75,
           "rgb(35,139,69)"
          ],
          [
           0.875,
           "rgb(0,109,44)"
          ],
          [
           1,
           "rgb(0,68,27)"
          ]
         ]
        },
        "geo": {
         "center": {},
         "domain": {
          "x": [
           0,
           1
          ],
          "y": [
           0,
           1
          ]
         },
         "scope": "usa"
        },
        "legend": {
         "tracegroupgap": 0
        },
        "template": {
         "data": {
          "bar": [
           {
            "error_x": {
             "color": "#2a3f5f"
            },
            "error_y": {
             "color": "#2a3f5f"
            },
            "marker": {
             "line": {
              "color": "#E5ECF6",
              "width": 0.5
             },
             "pattern": {
              "fillmode": "overlay",
              "size": 10,
              "solidity": 0.2
             }
            },
            "type": "bar"
           }
          ],
          "barpolar": [
           {
            "marker": {
             "line": {
              "color": "#E5ECF6",
              "width": 0.5
             },
             "pattern": {
              "fillmode": "overlay",
              "size": 10,
              "solidity": 0.2
             }
            },
            "type": "barpolar"
           }
          ],
          "carpet": [
           {
            "aaxis": {
             "endlinecolor": "#2a3f5f",
             "gridcolor": "white",
             "linecolor": "white",
             "minorgridcolor": "white",
             "startlinecolor": "#2a3f5f"
            },
            "baxis": {
             "endlinecolor": "#2a3f5f",
             "gridcolor": "white",
             "linecolor": "white",
             "minorgridcolor": "white",
             "startlinecolor": "#2a3f5f"
            },
            "type": "carpet"
           }
          ],
          "choropleth": [
           {
            "colorbar": {
             "outlinewidth": 0,
             "ticks": ""
            },
            "type": "choropleth"
           }
          ],
          "contour": [
           {
            "colorbar": {
             "outlinewidth": 0,
             "ticks": ""
            },
            "colorscale": [
             [
              0,
              "#0d0887"
             ],
             [
              0.1111111111111111,
              "#46039f"
             ],
             [
              0.2222222222222222,
              "#7201a8"
             ],
             [
              0.3333333333333333,
              "#9c179e"
             ],
             [
              0.4444444444444444,
              "#bd3786"
             ],
             [
              0.5555555555555556,
              "#d8576b"
             ],
             [
              0.6666666666666666,
              "#ed7953"
             ],
             [
              0.7777777777777778,
              "#fb9f3a"
             ],
             [
              0.8888888888888888,
              "#fdca26"
             ],
             [
              1,
              "#f0f921"
             ]
            ],
            "type": "contour"
           }
          ],
          "contourcarpet": [
           {
            "colorbar": {
             "outlinewidth": 0,
             "ticks": ""
            },
            "type": "contourcarpet"
           }
          ],
          "heatmap": [
           {
            "colorbar": {
             "outlinewidth": 0,
             "ticks": ""
            },
            "colorscale": [
             [
              0,
              "#0d0887"
             ],
             [
              0.1111111111111111,
              "#46039f"
             ],
             [
              0.2222222222222222,
              "#7201a8"
             ],
             [
              0.3333333333333333,
              "#9c179e"
             ],
             [
              0.4444444444444444,
              "#bd3786"
             ],
             [
              0.5555555555555556,
              "#d8576b"
             ],
             [
              0.6666666666666666,
              "#ed7953"
             ],
             [
              0.7777777777777778,
              "#fb9f3a"
             ],
             [
              0.8888888888888888,
              "#fdca26"
             ],
             [
              1,
              "#f0f921"
             ]
            ],
            "type": "heatmap"
           }
          ],
          "heatmapgl": [
           {
            "colorbar": {
             "outlinewidth": 0,
             "ticks": ""
            },
            "colorscale": [
             [
              0,
              "#0d0887"
             ],
             [
              0.1111111111111111,
              "#46039f"
             ],
             [
              0.2222222222222222,
              "#7201a8"
             ],
             [
              0.3333333333333333,
              "#9c179e"
             ],
             [
              0.4444444444444444,
              "#bd3786"
             ],
             [
              0.5555555555555556,
              "#d8576b"
             ],
             [
              0.6666666666666666,
              "#ed7953"
             ],
             [
              0.7777777777777778,
              "#fb9f3a"
             ],
             [
              0.8888888888888888,
              "#fdca26"
             ],
             [
              1,
              "#f0f921"
             ]
            ],
            "type": "heatmapgl"
           }
          ],
          "histogram": [
           {
            "marker": {
             "pattern": {
              "fillmode": "overlay",
              "size": 10,
              "solidity": 0.2
             }
            },
            "type": "histogram"
           }
          ],
          "histogram2d": [
           {
            "colorbar": {
             "outlinewidth": 0,
             "ticks": ""
            },
            "colorscale": [
             [
              0,
              "#0d0887"
             ],
             [
              0.1111111111111111,
              "#46039f"
             ],
             [
              0.2222222222222222,
              "#7201a8"
             ],
             [
              0.3333333333333333,
              "#9c179e"
             ],
             [
              0.4444444444444444,
              "#bd3786"
             ],
             [
              0.5555555555555556,
              "#d8576b"
             ],
             [
              0.6666666666666666,
              "#ed7953"
             ],
             [
              0.7777777777777778,
              "#fb9f3a"
             ],
             [
              0.8888888888888888,
              "#fdca26"
             ],
             [
              1,
              "#f0f921"
             ]
            ],
            "type": "histogram2d"
           }
          ],
          "histogram2dcontour": [
           {
            "colorbar": {
             "outlinewidth": 0,
             "ticks": ""
            },
            "colorscale": [
             [
              0,
              "#0d0887"
             ],
             [
              0.1111111111111111,
              "#46039f"
             ],
             [
              0.2222222222222222,
              "#7201a8"
             ],
             [
              0.3333333333333333,
              "#9c179e"
             ],
             [
              0.4444444444444444,
              "#bd3786"
             ],
             [
              0.5555555555555556,
              "#d8576b"
             ],
             [
              0.6666666666666666,
              "#ed7953"
             ],
             [
              0.7777777777777778,
              "#fb9f3a"
             ],
             [
              0.8888888888888888,
              "#fdca26"
             ],
             [
              1,
              "#f0f921"
             ]
            ],
            "type": "histogram2dcontour"
           }
          ],
          "mesh3d": [
           {
            "colorbar": {
             "outlinewidth": 0,
             "ticks": ""
            },
            "type": "mesh3d"
           }
          ],
          "parcoords": [
           {
            "line": {
             "colorbar": {
              "outlinewidth": 0,
              "ticks": ""
             }
            },
            "type": "parcoords"
           }
          ],
          "pie": [
           {
            "automargin": true,
            "type": "pie"
           }
          ],
          "scatter": [
           {
            "fillpattern": {
             "fillmode": "overlay",
             "size": 10,
             "solidity": 0.2
            },
            "type": "scatter"
           }
          ],
          "scatter3d": [
           {
            "line": {
             "colorbar": {
              "outlinewidth": 0,
              "ticks": ""
             }
            },
            "marker": {
             "colorbar": {
              "outlinewidth": 0,
              "ticks": ""
             }
            },
            "type": "scatter3d"
           }
          ],
          "scattercarpet": [
           {
            "marker": {
             "colorbar": {
              "outlinewidth": 0,
              "ticks": ""
             }
            },
            "type": "scattercarpet"
           }
          ],
          "scattergeo": [
           {
            "marker": {
             "colorbar": {
              "outlinewidth": 0,
              "ticks": ""
             }
            },
            "type": "scattergeo"
           }
          ],
          "scattergl": [
           {
            "marker": {
             "colorbar": {
              "outlinewidth": 0,
              "ticks": ""
             }
            },
            "type": "scattergl"
           }
          ],
          "scattermapbox": [
           {
            "marker": {
             "colorbar": {
              "outlinewidth": 0,
              "ticks": ""
             }
            },
            "type": "scattermapbox"
           }
          ],
          "scatterpolar": [
           {
            "marker": {
             "colorbar": {
              "outlinewidth": 0,
              "ticks": ""
             }
            },
            "type": "scatterpolar"
           }
          ],
          "scatterpolargl": [
           {
            "marker": {
             "colorbar": {
              "outlinewidth": 0,
              "ticks": ""
             }
            },
            "type": "scatterpolargl"
           }
          ],
          "scatterternary": [
           {
            "marker": {
             "colorbar": {
              "outlinewidth": 0,
              "ticks": ""
             }
            },
            "type": "scatterternary"
           }
          ],
          "surface": [
           {
            "colorbar": {
             "outlinewidth": 0,
             "ticks": ""
            },
            "colorscale": [
             [
              0,
              "#0d0887"
             ],
             [
              0.1111111111111111,
              "#46039f"
             ],
             [
              0.2222222222222222,
              "#7201a8"
             ],
             [
              0.3333333333333333,
              "#9c179e"
             ],
             [
              0.4444444444444444,
              "#bd3786"
             ],
             [
              0.5555555555555556,
              "#d8576b"
             ],
             [
              0.6666666666666666,
              "#ed7953"
             ],
             [
              0.7777777777777778,
              "#fb9f3a"
             ],
             [
              0.8888888888888888,
              "#fdca26"
             ],
             [
              1,
              "#f0f921"
             ]
            ],
            "type": "surface"
           }
          ],
          "table": [
           {
            "cells": {
             "fill": {
              "color": "#EBF0F8"
             },
             "line": {
              "color": "white"
             }
            },
            "header": {
             "fill": {
              "color": "#C8D4E3"
             },
             "line": {
              "color": "white"
             }
            },
            "type": "table"
           }
          ]
         },
         "layout": {
          "annotationdefaults": {
           "arrowcolor": "#2a3f5f",
           "arrowhead": 0,
           "arrowwidth": 1
          },
          "autotypenumbers": "strict",
          "coloraxis": {
           "colorbar": {
            "outlinewidth": 0,
            "ticks": ""
           }
          },
          "colorscale": {
           "diverging": [
            [
             0,
             "#8e0152"
            ],
            [
             0.1,
             "#c51b7d"
            ],
            [
             0.2,
             "#de77ae"
            ],
            [
             0.3,
             "#f1b6da"
            ],
            [
             0.4,
             "#fde0ef"
            ],
            [
             0.5,
             "#f7f7f7"
            ],
            [
             0.6,
             "#e6f5d0"
            ],
            [
             0.7,
             "#b8e186"
            ],
            [
             0.8,
             "#7fbc41"
            ],
            [
             0.9,
             "#4d9221"
            ],
            [
             1,
             "#276419"
            ]
           ],
           "sequential": [
            [
             0,
             "#0d0887"
            ],
            [
             0.1111111111111111,
             "#46039f"
            ],
            [
             0.2222222222222222,
             "#7201a8"
            ],
            [
             0.3333333333333333,
             "#9c179e"
            ],
            [
             0.4444444444444444,
             "#bd3786"
            ],
            [
             0.5555555555555556,
             "#d8576b"
            ],
            [
             0.6666666666666666,
             "#ed7953"
            ],
            [
             0.7777777777777778,
             "#fb9f3a"
            ],
            [
             0.8888888888888888,
             "#fdca26"
            ],
            [
             1,
             "#f0f921"
            ]
           ],
           "sequentialminus": [
            [
             0,
             "#0d0887"
            ],
            [
             0.1111111111111111,
             "#46039f"
            ],
            [
             0.2222222222222222,
             "#7201a8"
            ],
            [
             0.3333333333333333,
             "#9c179e"
            ],
            [
             0.4444444444444444,
             "#bd3786"
            ],
            [
             0.5555555555555556,
             "#d8576b"
            ],
            [
             0.6666666666666666,
             "#ed7953"
            ],
            [
             0.7777777777777778,
             "#fb9f3a"
            ],
            [
             0.8888888888888888,
             "#fdca26"
            ],
            [
             1,
             "#f0f921"
            ]
           ]
          },
          "colorway": [
           "#636efa",
           "#EF553B",
           "#00cc96",
           "#ab63fa",
           "#FFA15A",
           "#19d3f3",
           "#FF6692",
           "#B6E880",
           "#FF97FF",
           "#FECB52"
          ],
          "font": {
           "color": "#2a3f5f"
          },
          "geo": {
           "bgcolor": "white",
           "lakecolor": "white",
           "landcolor": "#E5ECF6",
           "showlakes": true,
           "showland": true,
           "subunitcolor": "white"
          },
          "hoverlabel": {
           "align": "left"
          },
          "hovermode": "closest",
          "mapbox": {
           "style": "light"
          },
          "paper_bgcolor": "white",
          "plot_bgcolor": "#E5ECF6",
          "polar": {
           "angularaxis": {
            "gridcolor": "white",
            "linecolor": "white",
            "ticks": ""
           },
           "bgcolor": "#E5ECF6",
           "radialaxis": {
            "gridcolor": "white",
            "linecolor": "white",
            "ticks": ""
           }
          },
          "scene": {
           "xaxis": {
            "backgroundcolor": "#E5ECF6",
            "gridcolor": "white",
            "gridwidth": 2,
            "linecolor": "white",
            "showbackground": true,
            "ticks": "",
            "zerolinecolor": "white"
           },
           "yaxis": {
            "backgroundcolor": "#E5ECF6",
            "gridcolor": "white",
            "gridwidth": 2,
            "linecolor": "white",
            "showbackground": true,
            "ticks": "",
            "zerolinecolor": "white"
           },
           "zaxis": {
            "backgroundcolor": "#E5ECF6",
            "gridcolor": "white",
            "gridwidth": 2,
            "linecolor": "white",
            "showbackground": true,
            "ticks": "",
            "zerolinecolor": "white"
           }
          },
          "shapedefaults": {
           "line": {
            "color": "#2a3f5f"
           }
          },
          "ternary": {
           "aaxis": {
            "gridcolor": "white",
            "linecolor": "white",
            "ticks": ""
           },
           "baxis": {
            "gridcolor": "white",
            "linecolor": "white",
            "ticks": ""
           },
           "bgcolor": "#E5ECF6",
           "caxis": {
            "gridcolor": "white",
            "linecolor": "white",
            "ticks": ""
           }
          },
          "title": {
           "x": 0.05
          },
          "xaxis": {
           "automargin": true,
           "gridcolor": "white",
           "linecolor": "white",
           "ticks": "",
           "title": {
            "standoff": 15
           },
           "zerolinecolor": "white",
           "zerolinewidth": 2
          },
          "yaxis": {
           "automargin": true,
           "gridcolor": "white",
           "linecolor": "white",
           "ticks": "",
           "title": {
            "standoff": 15
           },
           "zerolinecolor": "white",
           "zerolinewidth": 2
          }
         }
        },
        "title": {
         "text": "Group 2 (U=1, G=1, V=0) Distribution"
        }
       }
      }
     },
     "metadata": {},
     "output_type": "display_data"
    },
    {
     "data": {
      "application/vnd.plotly.v1+json": {
       "config": {
        "plotlyServerURL": "https://plot.ly"
       },
       "data": [
        {
         "coloraxis": "coloraxis",
         "geo": "geo",
         "hovertemplate": "state=%{location}<br>count_group3=%{z}<extra></extra>",
         "locationmode": "USA-states",
         "locations": [
          "AK",
          "AL",
          "AR",
          "AZ",
          "CA",
          "CO",
          "CT",
          "DC",
          "DE",
          "FL",
          "GA",
          "GU",
          "HI",
          "IA",
          "ID",
          "IL",
          "IN",
          "KS",
          "KY",
          "LA",
          "MA",
          "MD",
          "ME",
          "MI",
          "MN",
          "MO",
          "MS",
          "MT",
          "NC",
          "ND",
          "NE",
          "NH",
          "NJ",
          "NM",
          "NV",
          "NY",
          "OH",
          "OK",
          "OR",
          "PA",
          "PR",
          "RI",
          "SC",
          "SD",
          "TN",
          "TX",
          "UT",
          "VA",
          "VT",
          "WA",
          "WI",
          "WV",
          "WY"
         ],
         "name": "",
         "type": "choropleth",
         "z": [
          6,
          1698,
          742,
          1360,
          71,
          1721,
          61,
          2,
          161,
          1879,
          3750,
          0,
          6,
          680,
          306,
          927,
          1645,
          583,
          2108,
          939,
          118,
          315,
          172,
          2623,
          2364,
          841,
          1219,
          922,
          3011,
          171,
          223,
          300,
          551,
          976,
          637,
          1161,
          1977,
          1142,
          314,
          1684,
          5,
          4,
          2896,
          393,
          449,
          4463,
          175,
          1114,
          25,
          710,
          743,
          1654,
          8
         ]
        }
       ],
       "layout": {
        "coloraxis": {
         "colorbar": {
          "title": {
           "text": "count_group3"
          }
         },
         "colorscale": [
          [
           0,
           "rgb(255,245,235)"
          ],
          [
           0.125,
           "rgb(254,230,206)"
          ],
          [
           0.25,
           "rgb(253,208,162)"
          ],
          [
           0.375,
           "rgb(253,174,107)"
          ],
          [
           0.5,
           "rgb(253,141,60)"
          ],
          [
           0.625,
           "rgb(241,105,19)"
          ],
          [
           0.75,
           "rgb(217,72,1)"
          ],
          [
           0.875,
           "rgb(166,54,3)"
          ],
          [
           1,
           "rgb(127,39,4)"
          ]
         ]
        },
        "geo": {
         "center": {},
         "domain": {
          "x": [
           0,
           1
          ],
          "y": [
           0,
           1
          ]
         },
         "scope": "usa"
        },
        "legend": {
         "tracegroupgap": 0
        },
        "template": {
         "data": {
          "bar": [
           {
            "error_x": {
             "color": "#2a3f5f"
            },
            "error_y": {
             "color": "#2a3f5f"
            },
            "marker": {
             "line": {
              "color": "#E5ECF6",
              "width": 0.5
             },
             "pattern": {
              "fillmode": "overlay",
              "size": 10,
              "solidity": 0.2
             }
            },
            "type": "bar"
           }
          ],
          "barpolar": [
           {
            "marker": {
             "line": {
              "color": "#E5ECF6",
              "width": 0.5
             },
             "pattern": {
              "fillmode": "overlay",
              "size": 10,
              "solidity": 0.2
             }
            },
            "type": "barpolar"
           }
          ],
          "carpet": [
           {
            "aaxis": {
             "endlinecolor": "#2a3f5f",
             "gridcolor": "white",
             "linecolor": "white",
             "minorgridcolor": "white",
             "startlinecolor": "#2a3f5f"
            },
            "baxis": {
             "endlinecolor": "#2a3f5f",
             "gridcolor": "white",
             "linecolor": "white",
             "minorgridcolor": "white",
             "startlinecolor": "#2a3f5f"
            },
            "type": "carpet"
           }
          ],
          "choropleth": [
           {
            "colorbar": {
             "outlinewidth": 0,
             "ticks": ""
            },
            "type": "choropleth"
           }
          ],
          "contour": [
           {
            "colorbar": {
             "outlinewidth": 0,
             "ticks": ""
            },
            "colorscale": [
             [
              0,
              "#0d0887"
             ],
             [
              0.1111111111111111,
              "#46039f"
             ],
             [
              0.2222222222222222,
              "#7201a8"
             ],
             [
              0.3333333333333333,
              "#9c179e"
             ],
             [
              0.4444444444444444,
              "#bd3786"
             ],
             [
              0.5555555555555556,
              "#d8576b"
             ],
             [
              0.6666666666666666,
              "#ed7953"
             ],
             [
              0.7777777777777778,
              "#fb9f3a"
             ],
             [
              0.8888888888888888,
              "#fdca26"
             ],
             [
              1,
              "#f0f921"
             ]
            ],
            "type": "contour"
           }
          ],
          "contourcarpet": [
           {
            "colorbar": {
             "outlinewidth": 0,
             "ticks": ""
            },
            "type": "contourcarpet"
           }
          ],
          "heatmap": [
           {
            "colorbar": {
             "outlinewidth": 0,
             "ticks": ""
            },
            "colorscale": [
             [
              0,
              "#0d0887"
             ],
             [
              0.1111111111111111,
              "#46039f"
             ],
             [
              0.2222222222222222,
              "#7201a8"
             ],
             [
              0.3333333333333333,
              "#9c179e"
             ],
             [
              0.4444444444444444,
              "#bd3786"
             ],
             [
              0.5555555555555556,
              "#d8576b"
             ],
             [
              0.6666666666666666,
              "#ed7953"
             ],
             [
              0.7777777777777778,
              "#fb9f3a"
             ],
             [
              0.8888888888888888,
              "#fdca26"
             ],
             [
              1,
              "#f0f921"
             ]
            ],
            "type": "heatmap"
           }
          ],
          "heatmapgl": [
           {
            "colorbar": {
             "outlinewidth": 0,
             "ticks": ""
            },
            "colorscale": [
             [
              0,
              "#0d0887"
             ],
             [
              0.1111111111111111,
              "#46039f"
             ],
             [
              0.2222222222222222,
              "#7201a8"
             ],
             [
              0.3333333333333333,
              "#9c179e"
             ],
             [
              0.4444444444444444,
              "#bd3786"
             ],
             [
              0.5555555555555556,
              "#d8576b"
             ],
             [
              0.6666666666666666,
              "#ed7953"
             ],
             [
              0.7777777777777778,
              "#fb9f3a"
             ],
             [
              0.8888888888888888,
              "#fdca26"
             ],
             [
              1,
              "#f0f921"
             ]
            ],
            "type": "heatmapgl"
           }
          ],
          "histogram": [
           {
            "marker": {
             "pattern": {
              "fillmode": "overlay",
              "size": 10,
              "solidity": 0.2
             }
            },
            "type": "histogram"
           }
          ],
          "histogram2d": [
           {
            "colorbar": {
             "outlinewidth": 0,
             "ticks": ""
            },
            "colorscale": [
             [
              0,
              "#0d0887"
             ],
             [
              0.1111111111111111,
              "#46039f"
             ],
             [
              0.2222222222222222,
              "#7201a8"
             ],
             [
              0.3333333333333333,
              "#9c179e"
             ],
             [
              0.4444444444444444,
              "#bd3786"
             ],
             [
              0.5555555555555556,
              "#d8576b"
             ],
             [
              0.6666666666666666,
              "#ed7953"
             ],
             [
              0.7777777777777778,
              "#fb9f3a"
             ],
             [
              0.8888888888888888,
              "#fdca26"
             ],
             [
              1,
              "#f0f921"
             ]
            ],
            "type": "histogram2d"
           }
          ],
          "histogram2dcontour": [
           {
            "colorbar": {
             "outlinewidth": 0,
             "ticks": ""
            },
            "colorscale": [
             [
              0,
              "#0d0887"
             ],
             [
              0.1111111111111111,
              "#46039f"
             ],
             [
              0.2222222222222222,
              "#7201a8"
             ],
             [
              0.3333333333333333,
              "#9c179e"
             ],
             [
              0.4444444444444444,
              "#bd3786"
             ],
             [
              0.5555555555555556,
              "#d8576b"
             ],
             [
              0.6666666666666666,
              "#ed7953"
             ],
             [
              0.7777777777777778,
              "#fb9f3a"
             ],
             [
              0.8888888888888888,
              "#fdca26"
             ],
             [
              1,
              "#f0f921"
             ]
            ],
            "type": "histogram2dcontour"
           }
          ],
          "mesh3d": [
           {
            "colorbar": {
             "outlinewidth": 0,
             "ticks": ""
            },
            "type": "mesh3d"
           }
          ],
          "parcoords": [
           {
            "line": {
             "colorbar": {
              "outlinewidth": 0,
              "ticks": ""
             }
            },
            "type": "parcoords"
           }
          ],
          "pie": [
           {
            "automargin": true,
            "type": "pie"
           }
          ],
          "scatter": [
           {
            "fillpattern": {
             "fillmode": "overlay",
             "size": 10,
             "solidity": 0.2
            },
            "type": "scatter"
           }
          ],
          "scatter3d": [
           {
            "line": {
             "colorbar": {
              "outlinewidth": 0,
              "ticks": ""
             }
            },
            "marker": {
             "colorbar": {
              "outlinewidth": 0,
              "ticks": ""
             }
            },
            "type": "scatter3d"
           }
          ],
          "scattercarpet": [
           {
            "marker": {
             "colorbar": {
              "outlinewidth": 0,
              "ticks": ""
             }
            },
            "type": "scattercarpet"
           }
          ],
          "scattergeo": [
           {
            "marker": {
             "colorbar": {
              "outlinewidth": 0,
              "ticks": ""
             }
            },
            "type": "scattergeo"
           }
          ],
          "scattergl": [
           {
            "marker": {
             "colorbar": {
              "outlinewidth": 0,
              "ticks": ""
             }
            },
            "type": "scattergl"
           }
          ],
          "scattermapbox": [
           {
            "marker": {
             "colorbar": {
              "outlinewidth": 0,
              "ticks": ""
             }
            },
            "type": "scattermapbox"
           }
          ],
          "scatterpolar": [
           {
            "marker": {
             "colorbar": {
              "outlinewidth": 0,
              "ticks": ""
             }
            },
            "type": "scatterpolar"
           }
          ],
          "scatterpolargl": [
           {
            "marker": {
             "colorbar": {
              "outlinewidth": 0,
              "ticks": ""
             }
            },
            "type": "scatterpolargl"
           }
          ],
          "scatterternary": [
           {
            "marker": {
             "colorbar": {
              "outlinewidth": 0,
              "ticks": ""
             }
            },
            "type": "scatterternary"
           }
          ],
          "surface": [
           {
            "colorbar": {
             "outlinewidth": 0,
             "ticks": ""
            },
            "colorscale": [
             [
              0,
              "#0d0887"
             ],
             [
              0.1111111111111111,
              "#46039f"
             ],
             [
              0.2222222222222222,
              "#7201a8"
             ],
             [
              0.3333333333333333,
              "#9c179e"
             ],
             [
              0.4444444444444444,
              "#bd3786"
             ],
             [
              0.5555555555555556,
              "#d8576b"
             ],
             [
              0.6666666666666666,
              "#ed7953"
             ],
             [
              0.7777777777777778,
              "#fb9f3a"
             ],
             [
              0.8888888888888888,
              "#fdca26"
             ],
             [
              1,
              "#f0f921"
             ]
            ],
            "type": "surface"
           }
          ],
          "table": [
           {
            "cells": {
             "fill": {
              "color": "#EBF0F8"
             },
             "line": {
              "color": "white"
             }
            },
            "header": {
             "fill": {
              "color": "#C8D4E3"
             },
             "line": {
              "color": "white"
             }
            },
            "type": "table"
           }
          ]
         },
         "layout": {
          "annotationdefaults": {
           "arrowcolor": "#2a3f5f",
           "arrowhead": 0,
           "arrowwidth": 1
          },
          "autotypenumbers": "strict",
          "coloraxis": {
           "colorbar": {
            "outlinewidth": 0,
            "ticks": ""
           }
          },
          "colorscale": {
           "diverging": [
            [
             0,
             "#8e0152"
            ],
            [
             0.1,
             "#c51b7d"
            ],
            [
             0.2,
             "#de77ae"
            ],
            [
             0.3,
             "#f1b6da"
            ],
            [
             0.4,
             "#fde0ef"
            ],
            [
             0.5,
             "#f7f7f7"
            ],
            [
             0.6,
             "#e6f5d0"
            ],
            [
             0.7,
             "#b8e186"
            ],
            [
             0.8,
             "#7fbc41"
            ],
            [
             0.9,
             "#4d9221"
            ],
            [
             1,
             "#276419"
            ]
           ],
           "sequential": [
            [
             0,
             "#0d0887"
            ],
            [
             0.1111111111111111,
             "#46039f"
            ],
            [
             0.2222222222222222,
             "#7201a8"
            ],
            [
             0.3333333333333333,
             "#9c179e"
            ],
            [
             0.4444444444444444,
             "#bd3786"
            ],
            [
             0.5555555555555556,
             "#d8576b"
            ],
            [
             0.6666666666666666,
             "#ed7953"
            ],
            [
             0.7777777777777778,
             "#fb9f3a"
            ],
            [
             0.8888888888888888,
             "#fdca26"
            ],
            [
             1,
             "#f0f921"
            ]
           ],
           "sequentialminus": [
            [
             0,
             "#0d0887"
            ],
            [
             0.1111111111111111,
             "#46039f"
            ],
            [
             0.2222222222222222,
             "#7201a8"
            ],
            [
             0.3333333333333333,
             "#9c179e"
            ],
            [
             0.4444444444444444,
             "#bd3786"
            ],
            [
             0.5555555555555556,
             "#d8576b"
            ],
            [
             0.6666666666666666,
             "#ed7953"
            ],
            [
             0.7777777777777778,
             "#fb9f3a"
            ],
            [
             0.8888888888888888,
             "#fdca26"
            ],
            [
             1,
             "#f0f921"
            ]
           ]
          },
          "colorway": [
           "#636efa",
           "#EF553B",
           "#00cc96",
           "#ab63fa",
           "#FFA15A",
           "#19d3f3",
           "#FF6692",
           "#B6E880",
           "#FF97FF",
           "#FECB52"
          ],
          "font": {
           "color": "#2a3f5f"
          },
          "geo": {
           "bgcolor": "white",
           "lakecolor": "white",
           "landcolor": "#E5ECF6",
           "showlakes": true,
           "showland": true,
           "subunitcolor": "white"
          },
          "hoverlabel": {
           "align": "left"
          },
          "hovermode": "closest",
          "mapbox": {
           "style": "light"
          },
          "paper_bgcolor": "white",
          "plot_bgcolor": "#E5ECF6",
          "polar": {
           "angularaxis": {
            "gridcolor": "white",
            "linecolor": "white",
            "ticks": ""
           },
           "bgcolor": "#E5ECF6",
           "radialaxis": {
            "gridcolor": "white",
            "linecolor": "white",
            "ticks": ""
           }
          },
          "scene": {
           "xaxis": {
            "backgroundcolor": "#E5ECF6",
            "gridcolor": "white",
            "gridwidth": 2,
            "linecolor": "white",
            "showbackground": true,
            "ticks": "",
            "zerolinecolor": "white"
           },
           "yaxis": {
            "backgroundcolor": "#E5ECF6",
            "gridcolor": "white",
            "gridwidth": 2,
            "linecolor": "white",
            "showbackground": true,
            "ticks": "",
            "zerolinecolor": "white"
           },
           "zaxis": {
            "backgroundcolor": "#E5ECF6",
            "gridcolor": "white",
            "gridwidth": 2,
            "linecolor": "white",
            "showbackground": true,
            "ticks": "",
            "zerolinecolor": "white"
           }
          },
          "shapedefaults": {
           "line": {
            "color": "#2a3f5f"
           }
          },
          "ternary": {
           "aaxis": {
            "gridcolor": "white",
            "linecolor": "white",
            "ticks": ""
           },
           "baxis": {
            "gridcolor": "white",
            "linecolor": "white",
            "ticks": ""
           },
           "bgcolor": "#E5ECF6",
           "caxis": {
            "gridcolor": "white",
            "linecolor": "white",
            "ticks": ""
           }
          },
          "title": {
           "x": 0.05
          },
          "xaxis": {
           "automargin": true,
           "gridcolor": "white",
           "linecolor": "white",
           "ticks": "",
           "title": {
            "standoff": 15
           },
           "zerolinecolor": "white",
           "zerolinewidth": 2
          },
          "yaxis": {
           "automargin": true,
           "gridcolor": "white",
           "linecolor": "white",
           "ticks": "",
           "title": {
            "standoff": 15
           },
           "zerolinecolor": "white",
           "zerolinewidth": 2
          }
         }
        },
        "title": {
         "text": "Group 3 (U=1, G=1, V=1) Distribution"
        }
       }
      }
     },
     "metadata": {},
     "output_type": "display_data"
    }
   ],
   "source": [
    "import pandas as pd\n",
    "import plotly.express as px\n",
    "\n",
    "state_columns = [col for col in df_data.columns if col.startswith('state_')]\n",
    "\n",
    "group1 = df_data[(df_data['unattributed_provider'] == 0) & \n",
    "                 (df_data['generic_grouper'] == 1) & \n",
    "                 (df_data['veteran_ind'] == 0)]\n",
    "group2 = df_data[(df_data['unattributed_provider'] == 1) & \n",
    "                 (df_data['generic_grouper'] == 1) & \n",
    "                 (df_data['veteran_ind'] == 0)]\n",
    "group3 = df_data[(df_data['unattributed_provider'] == 1) & \n",
    "                 (df_data['generic_grouper'] == 1) & \n",
    "                 (df_data['veteran_ind'] == 1)]\n",
    "\n",
    "group1_state_counts = group1[state_columns].sum().reset_index()\n",
    "group2_state_counts = group2[state_columns].sum().reset_index()\n",
    "group3_state_counts = group3[state_columns].sum().reset_index()\n",
    "\n",
    "group1_state_counts.columns = ['state', 'count_group1']\n",
    "group2_state_counts.columns = ['state', 'count_group2']\n",
    "group3_state_counts.columns = ['state', 'count_group3']\n",
    "\n",
    "state_counts = pd.merge(group1_state_counts, group2_state_counts, on='state', how='outer')\n",
    "state_counts = pd.merge(state_counts, group3_state_counts, on='state', how='outer')\n",
    "\n",
    "# Clean up state names removing the 'state_' prefix\n",
    "state_counts['state'] = state_counts['state'].str.replace('state_', '')\n",
    "\n",
    "print(state_counts)\n",
    "\n",
    "# Plot Group 1\n",
    "fig_group1 = px.choropleth(state_counts, \n",
    "                           locations='state', \n",
    "                           locationmode=\"USA-states\",\n",
    "                           color='count_group1', \n",
    "                           scope=\"usa\", \n",
    "                           title=\"Group 1 (U=0, G=1, V=0) Distribution\",\n",
    "                           color_continuous_scale=\"Blues\")\n",
    "fig_group1.show()\n",
    "\n",
    "# Plot Group 2\n",
    "fig_group2 = px.choropleth(state_counts, \n",
    "                           locations='state', \n",
    "                           locationmode=\"USA-states\", \n",
    "                           color='count_group2', \n",
    "                           scope=\"usa\", \n",
    "                           title=\"Group 2 (U=1, G=1, V=0) Distribution\",\n",
    "                           color_continuous_scale=\"Greens\")\n",
    "fig_group2.show()\n",
    "\n",
    "# Plot Group 3\n",
    "fig_group3 = px.choropleth(state_counts, \n",
    "                           locations='state', \n",
    "                           locationmode=\"USA-states\", \n",
    "                           color='count_group3', \n",
    "                           scope=\"usa\", \n",
    "                           title=\"Group 3 (U=1, G=1, V=1) Distribution\",\n",
    "                           color_continuous_scale=\"Oranges\")\n",
    "fig_group3.show()"
   ]
  },
  {
   "cell_type": "code",
   "execution_count": 118,
   "metadata": {},
   "outputs": [
    {
     "name": "stdout",
     "output_type": "stream",
     "text": [
      "   state   count\n",
      "0     AK      86\n",
      "1     AL   31121\n",
      "2     AR   14426\n",
      "3     AZ   26055\n",
      "4     CA    1865\n",
      "5     CO   32729\n",
      "6     CT    1226\n",
      "7     DC      56\n",
      "8     DE    1837\n",
      "9     FL  111079\n",
      "10    GA  120515\n",
      "11    GU       1\n",
      "12    HI    8633\n",
      "13    IA   14217\n",
      "14    ID    4942\n",
      "15    IL   39056\n",
      "16    IN   45485\n",
      "17    KS   12179\n",
      "18    KY   96137\n",
      "19    LA   18166\n",
      "20    MA    2152\n",
      "21    MD    6431\n",
      "22    ME    4715\n",
      "23    MI   74613\n",
      "24    MN   42424\n",
      "25    MO   14859\n",
      "26    MS   38579\n",
      "27    MT   15702\n",
      "28    NC  156695\n",
      "29    ND    2714\n",
      "30    NE    2390\n",
      "31    NH    7287\n",
      "32    NJ   10325\n",
      "33    NM   22040\n",
      "34    NV    9713\n",
      "35    NY   49686\n",
      "36    OH   61712\n",
      "37    OK   28776\n",
      "38    OR    6236\n",
      "39    PA   29940\n",
      "40    PR     446\n",
      "41    RI      77\n",
      "42    SC   60634\n",
      "43    SD    5324\n",
      "44    TN   14490\n",
      "45    TX  126096\n",
      "46    UT    8428\n",
      "47    VA   37197\n",
      "48    VT     358\n",
      "49    WA   19110\n",
      "50    WI   23992\n",
      "51    WV   64722\n",
      "52    WY     214\n"
     ]
    },
    {
     "data": {
      "application/vnd.plotly.v1+json": {
       "config": {
        "plotlyServerURL": "https://plot.ly"
       },
       "data": [
        {
         "coloraxis": "coloraxis",
         "geo": "geo",
         "hovertemplate": "state=%{location}<br>count=%{z}<extra></extra>",
         "locationmode": "USA-states",
         "locations": [
          "AK",
          "AL",
          "AR",
          "AZ",
          "CA",
          "CO",
          "CT",
          "DC",
          "DE",
          "FL",
          "GA",
          "GU",
          "HI",
          "IA",
          "ID",
          "IL",
          "IN",
          "KS",
          "KY",
          "LA",
          "MA",
          "MD",
          "ME",
          "MI",
          "MN",
          "MO",
          "MS",
          "MT",
          "NC",
          "ND",
          "NE",
          "NH",
          "NJ",
          "NM",
          "NV",
          "NY",
          "OH",
          "OK",
          "OR",
          "PA",
          "PR",
          "RI",
          "SC",
          "SD",
          "TN",
          "TX",
          "UT",
          "VA",
          "VT",
          "WA",
          "WI",
          "WV",
          "WY"
         ],
         "name": "",
         "type": "choropleth",
         "z": [
          86,
          31121,
          14426,
          26055,
          1865,
          32729,
          1226,
          56,
          1837,
          111079,
          120515,
          1,
          8633,
          14217,
          4942,
          39056,
          45485,
          12179,
          96137,
          18166,
          2152,
          6431,
          4715,
          74613,
          42424,
          14859,
          38579,
          15702,
          156695,
          2714,
          2390,
          7287,
          10325,
          22040,
          9713,
          49686,
          61712,
          28776,
          6236,
          29940,
          446,
          77,
          60634,
          5324,
          14490,
          126096,
          8428,
          37197,
          358,
          19110,
          23992,
          64722,
          214
         ]
        }
       ],
       "layout": {
        "coloraxis": {
         "colorbar": {
          "title": {
           "text": "count"
          }
         },
         "colorscale": [
          [
           0,
           "rgb(247,251,255)"
          ],
          [
           0.125,
           "rgb(222,235,247)"
          ],
          [
           0.25,
           "rgb(198,219,239)"
          ],
          [
           0.375,
           "rgb(158,202,225)"
          ],
          [
           0.5,
           "rgb(107,174,214)"
          ],
          [
           0.625,
           "rgb(66,146,198)"
          ],
          [
           0.75,
           "rgb(33,113,181)"
          ],
          [
           0.875,
           "rgb(8,81,156)"
          ],
          [
           1,
           "rgb(8,48,107)"
          ]
         ]
        },
        "geo": {
         "center": {},
         "domain": {
          "x": [
           0,
           1
          ],
          "y": [
           0,
           1
          ]
         },
         "scope": "usa"
        },
        "legend": {
         "tracegroupgap": 0
        },
        "template": {
         "data": {
          "bar": [
           {
            "error_x": {
             "color": "#2a3f5f"
            },
            "error_y": {
             "color": "#2a3f5f"
            },
            "marker": {
             "line": {
              "color": "#E5ECF6",
              "width": 0.5
             },
             "pattern": {
              "fillmode": "overlay",
              "size": 10,
              "solidity": 0.2
             }
            },
            "type": "bar"
           }
          ],
          "barpolar": [
           {
            "marker": {
             "line": {
              "color": "#E5ECF6",
              "width": 0.5
             },
             "pattern": {
              "fillmode": "overlay",
              "size": 10,
              "solidity": 0.2
             }
            },
            "type": "barpolar"
           }
          ],
          "carpet": [
           {
            "aaxis": {
             "endlinecolor": "#2a3f5f",
             "gridcolor": "white",
             "linecolor": "white",
             "minorgridcolor": "white",
             "startlinecolor": "#2a3f5f"
            },
            "baxis": {
             "endlinecolor": "#2a3f5f",
             "gridcolor": "white",
             "linecolor": "white",
             "minorgridcolor": "white",
             "startlinecolor": "#2a3f5f"
            },
            "type": "carpet"
           }
          ],
          "choropleth": [
           {
            "colorbar": {
             "outlinewidth": 0,
             "ticks": ""
            },
            "type": "choropleth"
           }
          ],
          "contour": [
           {
            "colorbar": {
             "outlinewidth": 0,
             "ticks": ""
            },
            "colorscale": [
             [
              0,
              "#0d0887"
             ],
             [
              0.1111111111111111,
              "#46039f"
             ],
             [
              0.2222222222222222,
              "#7201a8"
             ],
             [
              0.3333333333333333,
              "#9c179e"
             ],
             [
              0.4444444444444444,
              "#bd3786"
             ],
             [
              0.5555555555555556,
              "#d8576b"
             ],
             [
              0.6666666666666666,
              "#ed7953"
             ],
             [
              0.7777777777777778,
              "#fb9f3a"
             ],
             [
              0.8888888888888888,
              "#fdca26"
             ],
             [
              1,
              "#f0f921"
             ]
            ],
            "type": "contour"
           }
          ],
          "contourcarpet": [
           {
            "colorbar": {
             "outlinewidth": 0,
             "ticks": ""
            },
            "type": "contourcarpet"
           }
          ],
          "heatmap": [
           {
            "colorbar": {
             "outlinewidth": 0,
             "ticks": ""
            },
            "colorscale": [
             [
              0,
              "#0d0887"
             ],
             [
              0.1111111111111111,
              "#46039f"
             ],
             [
              0.2222222222222222,
              "#7201a8"
             ],
             [
              0.3333333333333333,
              "#9c179e"
             ],
             [
              0.4444444444444444,
              "#bd3786"
             ],
             [
              0.5555555555555556,
              "#d8576b"
             ],
             [
              0.6666666666666666,
              "#ed7953"
             ],
             [
              0.7777777777777778,
              "#fb9f3a"
             ],
             [
              0.8888888888888888,
              "#fdca26"
             ],
             [
              1,
              "#f0f921"
             ]
            ],
            "type": "heatmap"
           }
          ],
          "heatmapgl": [
           {
            "colorbar": {
             "outlinewidth": 0,
             "ticks": ""
            },
            "colorscale": [
             [
              0,
              "#0d0887"
             ],
             [
              0.1111111111111111,
              "#46039f"
             ],
             [
              0.2222222222222222,
              "#7201a8"
             ],
             [
              0.3333333333333333,
              "#9c179e"
             ],
             [
              0.4444444444444444,
              "#bd3786"
             ],
             [
              0.5555555555555556,
              "#d8576b"
             ],
             [
              0.6666666666666666,
              "#ed7953"
             ],
             [
              0.7777777777777778,
              "#fb9f3a"
             ],
             [
              0.8888888888888888,
              "#fdca26"
             ],
             [
              1,
              "#f0f921"
             ]
            ],
            "type": "heatmapgl"
           }
          ],
          "histogram": [
           {
            "marker": {
             "pattern": {
              "fillmode": "overlay",
              "size": 10,
              "solidity": 0.2
             }
            },
            "type": "histogram"
           }
          ],
          "histogram2d": [
           {
            "colorbar": {
             "outlinewidth": 0,
             "ticks": ""
            },
            "colorscale": [
             [
              0,
              "#0d0887"
             ],
             [
              0.1111111111111111,
              "#46039f"
             ],
             [
              0.2222222222222222,
              "#7201a8"
             ],
             [
              0.3333333333333333,
              "#9c179e"
             ],
             [
              0.4444444444444444,
              "#bd3786"
             ],
             [
              0.5555555555555556,
              "#d8576b"
             ],
             [
              0.6666666666666666,
              "#ed7953"
             ],
             [
              0.7777777777777778,
              "#fb9f3a"
             ],
             [
              0.8888888888888888,
              "#fdca26"
             ],
             [
              1,
              "#f0f921"
             ]
            ],
            "type": "histogram2d"
           }
          ],
          "histogram2dcontour": [
           {
            "colorbar": {
             "outlinewidth": 0,
             "ticks": ""
            },
            "colorscale": [
             [
              0,
              "#0d0887"
             ],
             [
              0.1111111111111111,
              "#46039f"
             ],
             [
              0.2222222222222222,
              "#7201a8"
             ],
             [
              0.3333333333333333,
              "#9c179e"
             ],
             [
              0.4444444444444444,
              "#bd3786"
             ],
             [
              0.5555555555555556,
              "#d8576b"
             ],
             [
              0.6666666666666666,
              "#ed7953"
             ],
             [
              0.7777777777777778,
              "#fb9f3a"
             ],
             [
              0.8888888888888888,
              "#fdca26"
             ],
             [
              1,
              "#f0f921"
             ]
            ],
            "type": "histogram2dcontour"
           }
          ],
          "mesh3d": [
           {
            "colorbar": {
             "outlinewidth": 0,
             "ticks": ""
            },
            "type": "mesh3d"
           }
          ],
          "parcoords": [
           {
            "line": {
             "colorbar": {
              "outlinewidth": 0,
              "ticks": ""
             }
            },
            "type": "parcoords"
           }
          ],
          "pie": [
           {
            "automargin": true,
            "type": "pie"
           }
          ],
          "scatter": [
           {
            "fillpattern": {
             "fillmode": "overlay",
             "size": 10,
             "solidity": 0.2
            },
            "type": "scatter"
           }
          ],
          "scatter3d": [
           {
            "line": {
             "colorbar": {
              "outlinewidth": 0,
              "ticks": ""
             }
            },
            "marker": {
             "colorbar": {
              "outlinewidth": 0,
              "ticks": ""
             }
            },
            "type": "scatter3d"
           }
          ],
          "scattercarpet": [
           {
            "marker": {
             "colorbar": {
              "outlinewidth": 0,
              "ticks": ""
             }
            },
            "type": "scattercarpet"
           }
          ],
          "scattergeo": [
           {
            "marker": {
             "colorbar": {
              "outlinewidth": 0,
              "ticks": ""
             }
            },
            "type": "scattergeo"
           }
          ],
          "scattergl": [
           {
            "marker": {
             "colorbar": {
              "outlinewidth": 0,
              "ticks": ""
             }
            },
            "type": "scattergl"
           }
          ],
          "scattermapbox": [
           {
            "marker": {
             "colorbar": {
              "outlinewidth": 0,
              "ticks": ""
             }
            },
            "type": "scattermapbox"
           }
          ],
          "scatterpolar": [
           {
            "marker": {
             "colorbar": {
              "outlinewidth": 0,
              "ticks": ""
             }
            },
            "type": "scatterpolar"
           }
          ],
          "scatterpolargl": [
           {
            "marker": {
             "colorbar": {
              "outlinewidth": 0,
              "ticks": ""
             }
            },
            "type": "scatterpolargl"
           }
          ],
          "scatterternary": [
           {
            "marker": {
             "colorbar": {
              "outlinewidth": 0,
              "ticks": ""
             }
            },
            "type": "scatterternary"
           }
          ],
          "surface": [
           {
            "colorbar": {
             "outlinewidth": 0,
             "ticks": ""
            },
            "colorscale": [
             [
              0,
              "#0d0887"
             ],
             [
              0.1111111111111111,
              "#46039f"
             ],
             [
              0.2222222222222222,
              "#7201a8"
             ],
             [
              0.3333333333333333,
              "#9c179e"
             ],
             [
              0.4444444444444444,
              "#bd3786"
             ],
             [
              0.5555555555555556,
              "#d8576b"
             ],
             [
              0.6666666666666666,
              "#ed7953"
             ],
             [
              0.7777777777777778,
              "#fb9f3a"
             ],
             [
              0.8888888888888888,
              "#fdca26"
             ],
             [
              1,
              "#f0f921"
             ]
            ],
            "type": "surface"
           }
          ],
          "table": [
           {
            "cells": {
             "fill": {
              "color": "#EBF0F8"
             },
             "line": {
              "color": "white"
             }
            },
            "header": {
             "fill": {
              "color": "#C8D4E3"
             },
             "line": {
              "color": "white"
             }
            },
            "type": "table"
           }
          ]
         },
         "layout": {
          "annotationdefaults": {
           "arrowcolor": "#2a3f5f",
           "arrowhead": 0,
           "arrowwidth": 1
          },
          "autotypenumbers": "strict",
          "coloraxis": {
           "colorbar": {
            "outlinewidth": 0,
            "ticks": ""
           }
          },
          "colorscale": {
           "diverging": [
            [
             0,
             "#8e0152"
            ],
            [
             0.1,
             "#c51b7d"
            ],
            [
             0.2,
             "#de77ae"
            ],
            [
             0.3,
             "#f1b6da"
            ],
            [
             0.4,
             "#fde0ef"
            ],
            [
             0.5,
             "#f7f7f7"
            ],
            [
             0.6,
             "#e6f5d0"
            ],
            [
             0.7,
             "#b8e186"
            ],
            [
             0.8,
             "#7fbc41"
            ],
            [
             0.9,
             "#4d9221"
            ],
            [
             1,
             "#276419"
            ]
           ],
           "sequential": [
            [
             0,
             "#0d0887"
            ],
            [
             0.1111111111111111,
             "#46039f"
            ],
            [
             0.2222222222222222,
             "#7201a8"
            ],
            [
             0.3333333333333333,
             "#9c179e"
            ],
            [
             0.4444444444444444,
             "#bd3786"
            ],
            [
             0.5555555555555556,
             "#d8576b"
            ],
            [
             0.6666666666666666,
             "#ed7953"
            ],
            [
             0.7777777777777778,
             "#fb9f3a"
            ],
            [
             0.8888888888888888,
             "#fdca26"
            ],
            [
             1,
             "#f0f921"
            ]
           ],
           "sequentialminus": [
            [
             0,
             "#0d0887"
            ],
            [
             0.1111111111111111,
             "#46039f"
            ],
            [
             0.2222222222222222,
             "#7201a8"
            ],
            [
             0.3333333333333333,
             "#9c179e"
            ],
            [
             0.4444444444444444,
             "#bd3786"
            ],
            [
             0.5555555555555556,
             "#d8576b"
            ],
            [
             0.6666666666666666,
             "#ed7953"
            ],
            [
             0.7777777777777778,
             "#fb9f3a"
            ],
            [
             0.8888888888888888,
             "#fdca26"
            ],
            [
             1,
             "#f0f921"
            ]
           ]
          },
          "colorway": [
           "#636efa",
           "#EF553B",
           "#00cc96",
           "#ab63fa",
           "#FFA15A",
           "#19d3f3",
           "#FF6692",
           "#B6E880",
           "#FF97FF",
           "#FECB52"
          ],
          "font": {
           "color": "#2a3f5f"
          },
          "geo": {
           "bgcolor": "white",
           "lakecolor": "white",
           "landcolor": "#E5ECF6",
           "showlakes": true,
           "showland": true,
           "subunitcolor": "white"
          },
          "hoverlabel": {
           "align": "left"
          },
          "hovermode": "closest",
          "mapbox": {
           "style": "light"
          },
          "paper_bgcolor": "white",
          "plot_bgcolor": "#E5ECF6",
          "polar": {
           "angularaxis": {
            "gridcolor": "white",
            "linecolor": "white",
            "ticks": ""
           },
           "bgcolor": "#E5ECF6",
           "radialaxis": {
            "gridcolor": "white",
            "linecolor": "white",
            "ticks": ""
           }
          },
          "scene": {
           "xaxis": {
            "backgroundcolor": "#E5ECF6",
            "gridcolor": "white",
            "gridwidth": 2,
            "linecolor": "white",
            "showbackground": true,
            "ticks": "",
            "zerolinecolor": "white"
           },
           "yaxis": {
            "backgroundcolor": "#E5ECF6",
            "gridcolor": "white",
            "gridwidth": 2,
            "linecolor": "white",
            "showbackground": true,
            "ticks": "",
            "zerolinecolor": "white"
           },
           "zaxis": {
            "backgroundcolor": "#E5ECF6",
            "gridcolor": "white",
            "gridwidth": 2,
            "linecolor": "white",
            "showbackground": true,
            "ticks": "",
            "zerolinecolor": "white"
           }
          },
          "shapedefaults": {
           "line": {
            "color": "#2a3f5f"
           }
          },
          "ternary": {
           "aaxis": {
            "gridcolor": "white",
            "linecolor": "white",
            "ticks": ""
           },
           "baxis": {
            "gridcolor": "white",
            "linecolor": "white",
            "ticks": ""
           },
           "bgcolor": "#E5ECF6",
           "caxis": {
            "gridcolor": "white",
            "linecolor": "white",
            "ticks": ""
           }
          },
          "title": {
           "x": 0.05
          },
          "xaxis": {
           "automargin": true,
           "gridcolor": "white",
           "linecolor": "white",
           "ticks": "",
           "title": {
            "standoff": 15
           },
           "zerolinecolor": "white",
           "zerolinewidth": 2
          },
          "yaxis": {
           "automargin": true,
           "gridcolor": "white",
           "linecolor": "white",
           "ticks": "",
           "title": {
            "standoff": 15
           },
           "zerolinecolor": "white",
           "zerolinewidth": 2
          }
         }
        },
        "title": {
         "text": "Overall Distribution of Individuals Across US"
        }
       }
      }
     },
     "metadata": {},
     "output_type": "display_data"
    }
   ],
   "source": [
    "import pandas as pd\n",
    "import plotly.express as px\n",
    "\n",
    "state_columns = [col for col in df_data.columns if col.startswith('state_')]\n",
    "\n",
    "overall_state_counts = df_data[state_columns].sum().reset_index()\n",
    "\n",
    "overall_state_counts.columns = ['state', 'count']\n",
    "\n",
    "overall_state_counts['state'] = overall_state_counts['state'].str.replace('state_', '')\n",
    "\n",
    "print(overall_state_counts)\n",
    "\n",
    "fig = px.choropleth(overall_state_counts, \n",
    "                    locations='state', \n",
    "                    locationmode=\"USA-states\",  \n",
    "                    color='count', \n",
    "                    scope=\"usa\", \n",
    "                    title=\"Overall Distribution of Individuals Across US\",\n",
    "                    color_continuous_scale=\"Blues\")\n",
    "\n",
    "fig.show()"
   ]
  },
  {
   "cell_type": "code",
   "execution_count": 120,
   "metadata": {},
   "outputs": [
    {
     "name": "stdout",
     "output_type": "stream",
     "text": [
      "['id', 'compliant_cnt', 'measure_type_HEDIS', 'measure_type_Patient Experience', 'measure_type_Patient Safety', 'days_since_last_login', 'login_pmpm_ct', 'consec_tenure_month', 'all_mm_tenure', 'tenure_gap', 'dual_eligible_ind', 'disabled_ind', 'lis_ind', 'riskarr_downside', 'riskarr_upside', 'riskarr_rewards', 'riskarr_global', 'COMP01_1metro', 'COMP01_2metro', 'COMP01_3metro', 'COMP01_4nonmetro', 'COMP01_5nonmetro', 'COMP01_6nonmetro', 'COMP01_7nonmetro', 'COMP01_8nonmetro', 'COMP01_9nonmetro', 'COMP01_ENG', 'COMP01_ARA', 'COMP01_BEN', 'COMP01_CHI', 'COMP01_CMN', 'COMP01_CPF', 'COMP01_CRE', 'COMP01_DUT', 'COMP01_FAS', 'COMP01_FRE', 'COMP01_GER', 'COMP01_HIN', 'COMP01_HMG', 'COMP01_ITA', 'COMP01_JPN', 'COMP01_KOR', 'COMP01_LAO', 'COMP01_MAN', 'COMP01_NAV', 'COMP01_OTH', 'COMP01_PER', 'COMP01_PHI', 'COMP01_POL', 'COMP01_POR', 'COMP01_RUS', 'COMP01_SPA', 'COMP01_TAG', 'COMP01_TGL', 'COMP01_THA', 'COMP01_VIE', 'COMP01_YUE', 'COMP01_ZZZ', 'rx_overall_pmpm_cost', 'rx_overall_net_paid_pmpm_cost', 'rx_overall_coins_pmpm_cost', 'rx_overall_copay_pmpm_cost', 'rx_overall_deduct_pmpm_cost', 'rx_overall_mbr_resp_pmpm_cost', 'rx_overall_gpi_pmpm_ct', 'rx_overall_dist_gpi6_pmpm_ct', 'rx_overall_pmpm_ct', 'rx_tier_1_pmpm_ct', 'rx_tier_2_pmpm_ct', 'rx_tier_3_pmpm_ct', 'rx_tier_4_pmpm_ct', 'rx_days_since_last_script', 'rx_pharmacies_pmpm_ct', 'rx_perphy_pmpm_ct', 'COMP01_field', 'COMP01_consumerdirect', 'COMP01_Brokerage', 'COMP01_DMStelesales', 'COMP01_PartnerCallCenter', 'rwjf_premature_death_rate', 'rwjf_poor_health_pct', 'rwjf_uninsured_adults_pct', 'rwjf_pcp_rate', 'rwjf_preventable_ip_rate', 'rwjf_adult_smoking_pct', 'rwjf_adult_obesity_pct', 'rwjf_teen_births_rate', 'rwjf_unemploy_pct', 'rwjf_child_poverty_pct', 'rwjf_poor_phy_hlth_days', 'rwjf_low_birthweight_pct', 'rwjf_mv_deaths_rate', 'rwjf_poor_men_hlth_days', 'rwjf_income_inequ_ratio', 'rwjf_std_infect_rate', 'rwjf_alcoholic_pct', 'rwjf_mammography_pct', 'rwjf_population', 'rwjf_age_lt_18_pct', 'rwjf_age_gt_65_pct', 'rwjf_african_race_pct', 'rwjf_native_race_pct', 'rwjf_hispanic_pct', 'rwjf_female_pct', 'rwjf_rural_pct', 'rwjf_non_english_pct', 'rwjf_diabetes_pct', 'rwjf_men_hlth_prov_ratio', 'rwjf_median_house_income', 'rwjf_drive_alone_pct', 'rwjf_some_college_pct', 'rwjf_inactivity_pct', 'rwjf_hawaiian_race_pct', 'rwjf_asian_race_pct', 'rwjf_single_parent_pct', 'rwjf_limit_hlthy_food_pct', 'rwjf_uninsured_pct', 'rwjf_dentists_ratio', 'rwjf_uninsured_child_pct', 'rwjf_air_pollute_density', 'rwjf_white_race_pct', 'rwjf_premature_mortality', 'rwjf_child_mortality', 'rwjf_other_pcp', 'rwjf_exercise_access_pct', 'rwjf_food_env_inx', 'rwjf_dui_deaths_pct', 'rwjf_injury_deaths_rate', 'rwjf_severe_housing_pct', 'rwjf_long_commute_alone_pct', 'rwjf_food_insecurity_pct', 'rwjf_social_associate_rate', 'rwjf_resident_seg_nonwhite_inx', 'rwjf_insufficient_sleep_pct', 'rwjf_physical_distress_pct', 'rwjf_mental_distress_pct', 'rwjf_life_expectancy', 'rwjf_home_ownership_pct', 'rwjf_housing_cost_burden_pct', 'rwjf_flu_vax', 'rwjf_suicides_rate', 'rwjf_broadband_access', 'rwjf_diabetes_monitor_pct', 'rwjf_healthcare_cost', 'rwjf_drug_deaths_modl_rate', 'cnt_cp_emails_0', 'cnt_cp_emails_1', 'cnt_cp_emails_2', 'cnt_cp_emails_3', 'cnt_cp_emails_4', 'cnt_cp_emails_5', 'cnt_cp_emails_6', 'cnt_cp_emails_7', 'cnt_cp_emails_8', 'cnt_cp_emails_9', 'cnt_cp_emails_10', 'cnt_cp_emails_11', 'cnt_cp_print_0', 'cnt_cp_print_1', 'cnt_cp_print_2', 'cnt_cp_print_3', 'cnt_cp_print_4', 'cnt_cp_print_5', 'cnt_cp_print_6', 'cnt_cp_print_7', 'cnt_cp_print_8', 'cnt_cp_print_9', 'cnt_cp_print_10', 'cnt_cp_print_11', 'cnt_cp_vat_0', 'cnt_cp_vat_1', 'cnt_cp_vat_2', 'cnt_cp_vat_3', 'cnt_cp_vat_4', 'cnt_cp_vat_5', 'cnt_cp_vat_6', 'cnt_cp_vat_7', 'cnt_cp_vat_8', 'cnt_cp_vat_9', 'cnt_cp_vat_10', 'cnt_cp_vat_11', 'cnt_cp_webstatement_0', 'cnt_cp_webstatement_1', 'cnt_cp_webstatement_2', 'cnt_cp_webstatement_3', 'cnt_cp_webstatement_4', 'cnt_cp_webstatement_5', 'cnt_cp_webstatement_6', 'cnt_cp_webstatement_7', 'cnt_cp_webstatement_8', 'cnt_cp_webstatement_9', 'cnt_cp_webstatement_10', 'cnt_cp_webstatement_11', 'cnt_cp_livecall_0', 'cnt_cp_livecall_1', 'cnt_cp_livecall_2', 'cnt_cp_livecall_3', 'cnt_cp_livecall_4', 'cnt_cp_livecall_5', 'cnt_cp_livecall_6', 'cnt_cp_livecall_7', 'cnt_cp_livecall_8', 'cnt_cp_livecall_9', 'cnt_cp_livecall_10', 'cnt_cp_livecall_11', 'cnt_cp_emails_pmpm_ct', 'cnt_cp_print_pmpm_ct', 'cnt_cp_vat_pmpm_ct', 'cnt_cp_webstatement_pmpm_ct', 'cnt_cp_livecall_pmpm_ct', 'nonpar_clm_ct_pmpm', 'nonpar_allowed_pmpm_cost', 'nonpar_net_paid_pmpm_cost', 'nonpar_cob_paid_pmpm_cost', 'nonpar_coins_pmpm_cost', 'nonpar_copay_pmpm_cost', 'nonpar_deduct_pmpm_cost', 'nonpar_mbr_resp_pmpm_cost', 'nonpar_ds_clm', 'oontwk_clm_ct_pmpm', 'oontwk_allowed_pmpm_cost', 'oontwk_net_paid_pmpm_cost', 'oontwk_cob_paid_pmpm_cost', 'oontwk_coins_pmpm_cost', 'oontwk_copay_pmpm_cost', 'oontwk_deduct_pmpm_cost', 'oontwk_mbr_resp_pmpm_cost', 'oontwk_ds_clm', 'total_allowed_pmpm_cost', 'total_net_paid_pmpm_cost', 'total_cob_paid_pmpm_cost', 'total_coins_pmpm_cost', 'total_copay_pmpm_cost', 'total_deduct_pmpm_cost', 'total_mbr_resp_pmpm_cost', 'days_since_last_clm', 'bh_rtc_admit_ct_pmpm', 'bh_rtc_admit_days_pmpm', 'bh_psyc_visit_ct_pmpm', 'total_ip_acute_admit_days_pmpm', 'total_ip_ltach_admit_days_pmpm', 'total_ip_maternity_admit_days_pmpm', 'total_ip_mhsa_admit_days_pmpm', 'total_ip_rehab_admit_days_pmpm', 'total_ip_snf_admit_days_pmpm', 'cms_frailty_ind', 'cms_tot_ma_payment_amt', 'cms_tot_partd_payment_amt', 'atlas_recfacpth14', 'atlas_ffrpth14', 'atlas_fsrpth14', 'atlas_grocpth14', 'atlas_povertyallagespct', 'cci_score', 'fci_score', 'dcsi_score', 'pcp_visit', 'annual_wellness', 'humana_paf', 'preventative_visit', 'comp_physical_exam', 'fqhc_visit', 'telehealth', 'endocrinologist_visit', 'oncolologist_visit', 'radiologist_visit', 'podiatrist_visit', 'ophthalmologist_visit', 'optometrist_visit', 'physical_therapist_visit', 'cardiologist_visit', 'gastroenterologist_visit', 'orthopedist_visit', 'obgyn_visit', 'nephroloogist_visit', 'pulmonologist_visit', 'urgent_care_visit', 'er_visit', 'generic_grouper', 'unattributed_provider', 'sex_cd', 'age', 'veteran_ind', 'mco_contract_nbr', 'hcc_model_type', 'cond_num', 'preventive_visit_gap_ind', 'state_AK', 'state_AL', 'state_AR', 'state_AZ', 'state_CA', 'state_CO', 'state_CT', 'state_DC', 'state_DE', 'state_FL', 'state_GA', 'state_GU', 'state_HI', 'state_IA', 'state_ID', 'state_IL', 'state_IN', 'state_KS', 'state_KY', 'state_LA', 'state_MA', 'state_MD', 'state_ME', 'state_MI', 'state_MN', 'state_MO', 'state_MS', 'state_MT', 'state_NC', 'state_ND', 'state_NE', 'state_NH', 'state_NJ', 'state_NM', 'state_NV', 'state_NY', 'state_OH', 'state_OK', 'state_OR', 'state_PA', 'state_PR', 'state_RI', 'state_SC', 'state_SD', 'state_TN', 'state_TX', 'state_UT', 'state_VA', 'state_VT', 'state_WA', 'state_WI', 'state_WV', 'state_WY']\n"
     ]
    }
   ],
   "source": [
    "pd.set_option('display.max_columns', None)\n",
    "\n",
    "columns_list = list(df_data.columns)\n",
    "print(columns_list)"
   ]
  },
  {
   "cell_type": "code",
   "execution_count": 122,
   "metadata": {},
   "outputs": [
    {
     "name": "stdout",
     "output_type": "stream",
     "text": [
      "|                          |   Group 1 (U=0, G=1, V=0) |   Group 2 (U=1, G=1, V=0) |   Group 3 (U=1, G=1, V=1) |\n",
      "|:-------------------------|--------------------------:|--------------------------:|--------------------------:|\n",
      "| COMP01_field             |                    124866 |                     66221 |                     26005 |\n",
      "| COMP01_consumerdirect    |                    107597 |                     71997 |                      8450 |\n",
      "| COMP01_Brokerage         |                     12751 |                      5442 |                      2086 |\n",
      "| COMP01_DMStelesales      |                     28949 |                     11679 |                      2317 |\n",
      "| COMP01_PartnerCallCenter |                     70098 |                     38244 |                     13058 |\n"
     ]
    }
   ],
   "source": [
    "import pandas as pd\n",
    "\n",
    "sales_channel_columns = ['COMP01_field', 'COMP01_consumerdirect', 'COMP01_Brokerage', 'COMP01_DMStelesales', 'COMP01_PartnerCallCenter']\n",
    "\n",
    "group1 = df_data[(df_data['unattributed_provider'] == 0) & \n",
    "                 (df_data['generic_grouper'] == 1) & \n",
    "                 (df_data['veteran_ind'] == 0)]\n",
    "\n",
    "group2 = df_data[(df_data['unattributed_provider'] == 1) & \n",
    "                 (df_data['generic_grouper'] == 1) & \n",
    "                 (df_data['veteran_ind'] == 0)]\n",
    "\n",
    "group3 = df_data[(df_data['unattributed_provider'] == 1) & \n",
    "                 (df_data['generic_grouper'] == 1) & \n",
    "                 (df_data['veteran_ind'] == 1)]\n",
    "\n",
    "group1_sales_counts = group1[sales_channel_columns].sum()\n",
    "group2_sales_counts = group2[sales_channel_columns].sum()\n",
    "group3_sales_counts = group3[sales_channel_columns].sum()\n",
    "\n",
    "sales_summary = pd.DataFrame({\n",
    "    'Group 1 (U=0, G=1, V=0)': group1_sales_counts,\n",
    "    'Group 2 (U=1, G=1, V=0)': group2_sales_counts,\n",
    "    'Group 3 (U=1, G=1, V=1)': group3_sales_counts\n",
    "})\n",
    "\n",
    "print(sales_summary.to_markdown())"
   ]
  },
  {
   "cell_type": "code",
   "execution_count": 123,
   "metadata": {},
   "outputs": [
    {
     "name": "stdout",
     "output_type": "stream",
     "text": [
      "|                          |   Group 1 (U=0, G=1, V=0, skipped=1) |   Group 2 (U=1, G=1, V=0, skipped=1) |   Group 3 (U=1, G=1, V=1, skipped=1) |\n",
      "|:-------------------------|-------------------------------------:|-------------------------------------:|-------------------------------------:|\n",
      "| COMP01_field             |                                61166 |                                40090 |                                23311 |\n",
      "| COMP01_consumerdirect    |                                48619 |                                39075 |                                 7010 |\n",
      "| COMP01_Brokerage         |                                 6243 |                                 3231 |                                 1829 |\n",
      "| COMP01_DMStelesales      |                                14971 |                                 6877 |                                 1878 |\n",
      "| COMP01_PartnerCallCenter |                                37986 |                                25464 |                                12008 |\n"
     ]
    }
   ],
   "source": [
    "import pandas as pd\n",
    "\n",
    "sales_channel_columns = ['COMP01_field', 'COMP01_consumerdirect', 'COMP01_Brokerage', 'COMP01_DMStelesales', 'COMP01_PartnerCallCenter']\n",
    "\n",
    "group1 = df_data[(df_data['unattributed_provider'] == 0) & \n",
    "                 (df_data['generic_grouper'] == 1) & \n",
    "                 (df_data['veteran_ind'] == 0) &\n",
    "                 (df_data['preventive_visit_gap_ind'] == 1)]\n",
    "\n",
    "group2 = df_data[(df_data['unattributed_provider'] == 1) & \n",
    "                 (df_data['generic_grouper'] == 1) & \n",
    "                 (df_data['veteran_ind'] == 0) &\n",
    "                 (df_data['preventive_visit_gap_ind'] == 1)]\n",
    "\n",
    "group3 = df_data[(df_data['unattributed_provider'] == 1) & \n",
    "                 (df_data['generic_grouper'] == 1) & \n",
    "                 (df_data['veteran_ind'] == 1) &\n",
    "                 (df_data['preventive_visit_gap_ind'] == 1)]\n",
    "\n",
    "group1_sales_counts = group1[sales_channel_columns].sum()\n",
    "group2_sales_counts = group2[sales_channel_columns].sum()\n",
    "group3_sales_counts = group3[sales_channel_columns].sum()\n",
    "\n",
    "sales_summary = pd.DataFrame({\n",
    "    'Group 1 (U=0, G=1, V=0, skipped=1)': group1_sales_counts,\n",
    "    'Group 2 (U=1, G=1, V=0, skipped=1)': group2_sales_counts,\n",
    "    'Group 3 (U=1, G=1, V=1, skipped=1)': group3_sales_counts\n",
    "})\n",
    "\n",
    "print(sales_summary.to_markdown())"
   ]
  },
  {
   "cell_type": "code",
   "execution_count": 125,
   "metadata": {},
   "outputs": [
    {
     "name": "stdout",
     "output_type": "stream",
     "text": [
      "|            |   Group 1 (U=0, G=1, V=0, skipped=1) |   Group 2 (U=1, G=1, V=0, skipped=1) |   Group 3 (U=1, G=1, V=1, skipped=1) |\n",
      "|:-----------|-------------------------------------:|-------------------------------------:|-------------------------------------:|\n",
      "| COMP01_ENG |                               116606 |                                83835 |                                35637 |\n",
      "| COMP01_ARA |                                    3 |                                    2 |                                    0 |\n",
      "| COMP01_BEN |                                    0 |                                    0 |                                    0 |\n",
      "| COMP01_CHI |                                   31 |                                   51 |                                    6 |\n",
      "| COMP01_CMN |                                    1 |                                    2 |                                    0 |\n",
      "| COMP01_CPF |                                    6 |                                    5 |                                    0 |\n",
      "| COMP01_CRE |                                    0 |                                    0 |                                    0 |\n",
      "| COMP01_DUT |                                    0 |                                    0 |                                    0 |\n",
      "| COMP01_FAS |                                    0 |                                    0 |                                    0 |\n",
      "| COMP01_FRE |                                   32 |                                   13 |                                    4 |\n",
      "| COMP01_GER |                                    1 |                                    1 |                                    0 |\n",
      "| COMP01_HIN |                                    1 |                                    0 |                                    0 |\n",
      "| COMP01_HMG |                                    0 |                                    0 |                                    0 |\n",
      "| COMP01_ITA |                                    4 |                                    4 |                                    0 |\n",
      "| COMP01_JPN |                                    0 |                                    1 |                                    0 |\n",
      "| COMP01_KOR |                                   44 |                                   62 |                                    1 |\n",
      "| COMP01_LAO |                                    0 |                                    2 |                                    0 |\n",
      "| COMP01_MAN |                                    0 |                                    1 |                                    0 |\n",
      "| COMP01_NAV |                                    1 |                                    3 |                                    0 |\n",
      "| COMP01_OTH |                                 4761 |                                 3630 |                                 2327 |\n",
      "| COMP01_PER |                                    0 |                                    0 |                                    0 |\n",
      "| COMP01_PHI |                                    0 |                                    0 |                                    0 |\n",
      "| COMP01_POL |                                    9 |                                   10 |                                    0 |\n",
      "| COMP01_POR |                                    2 |                                    4 |                                    0 |\n",
      "| COMP01_RUS |                                    8 |                                   10 |                                    0 |\n",
      "| COMP01_SPA |                                 3166 |                                 1225 |                                   58 |\n",
      "| COMP01_TAG |                                    1 |                                    0 |                                    0 |\n",
      "| COMP01_TGL |                                    1 |                                    4 |                                    0 |\n",
      "| COMP01_THA |                                    0 |                                    0 |                                    0 |\n",
      "| COMP01_VIE |                                   57 |                                   25 |                                    2 |\n",
      "| COMP01_YUE |                                    1 |                                    0 |                                    0 |\n",
      "| COMP01_ZZZ |                                    0 |                                    0 |                                    0 |\n"
     ]
    }
   ],
   "source": [
    "import pandas as pd\n",
    "\n",
    "sales_channel_columns = ['COMP01_ENG', 'COMP01_ARA', 'COMP01_BEN', 'COMP01_CHI', 'COMP01_CMN', 'COMP01_CPF', 'COMP01_CRE', 'COMP01_DUT', 'COMP01_FAS', 'COMP01_FRE', 'COMP01_GER', 'COMP01_HIN', 'COMP01_HMG', 'COMP01_ITA', 'COMP01_JPN', 'COMP01_KOR', 'COMP01_LAO', 'COMP01_MAN', 'COMP01_NAV', 'COMP01_OTH', 'COMP01_PER', 'COMP01_PHI', 'COMP01_POL', 'COMP01_POR', 'COMP01_RUS', 'COMP01_SPA', 'COMP01_TAG', 'COMP01_TGL', 'COMP01_THA', 'COMP01_VIE', 'COMP01_YUE', 'COMP01_ZZZ']\n",
    "\n",
    "group1 = df_data[(df_data['unattributed_provider'] == 0) & \n",
    "                 (df_data['generic_grouper'] == 1) & \n",
    "                 (df_data['veteran_ind'] == 0) &\n",
    "                 (df_data['preventive_visit_gap_ind'] == 1)]\n",
    "\n",
    "group2 = df_data[(df_data['unattributed_provider'] == 1) & \n",
    "                 (df_data['generic_grouper'] == 1) & \n",
    "                 (df_data['veteran_ind'] == 0) &\n",
    "                 (df_data['preventive_visit_gap_ind'] == 1)]\n",
    "\n",
    "group3 = df_data[(df_data['unattributed_provider'] == 1) & \n",
    "                 (df_data['generic_grouper'] == 1) & \n",
    "                 (df_data['veteran_ind'] == 1) &\n",
    "                 (df_data['preventive_visit_gap_ind'] == 1)]\n",
    "\n",
    "group1_sales_counts = group1[sales_channel_columns].sum()\n",
    "group2_sales_counts = group2[sales_channel_columns].sum()\n",
    "group3_sales_counts = group3[sales_channel_columns].sum()\n",
    "\n",
    "sales_summary = pd.DataFrame({\n",
    "    'Group 1 (U=0, G=1, V=0, skipped=1)': group1_sales_counts,\n",
    "    'Group 2 (U=1, G=1, V=0, skipped=1)': group2_sales_counts,\n",
    "    'Group 3 (U=1, G=1, V=1, skipped=1)': group3_sales_counts\n",
    "})\n",
    "\n",
    "print(sales_summary.to_markdown())"
   ]
  },
  {
   "cell_type": "code",
   "execution_count": 124,
   "metadata": {},
   "outputs": [
    {
     "name": "stdout",
     "output_type": "stream",
     "text": [
      "|                          |   Count |\n",
      "|:-------------------------|--------:|\n",
      "| COMP01_field             |  301449 |\n",
      "| COMP01_consumerdirect    |  317317 |\n",
      "| COMP01_Brokerage         |   29854 |\n",
      "| COMP01_DMStelesales      |   61581 |\n",
      "| COMP01_PartnerCallCenter |  129494 |\n"
     ]
    }
   ],
   "source": [
    "import pandas as pd\n",
    "\n",
    "sales_channel_columns = ['COMP01_field', 'COMP01_consumerdirect', 'COMP01_Brokerage', 'COMP01_DMStelesales', 'COMP01_PartnerCallCenter']\n",
    "\n",
    "non_skip_group = df_data[df_data['preventive_visit_gap_ind'] == 0]\n",
    "\n",
    "non_skip_sales_counts = non_skip_group[sales_channel_columns].sum()\n",
    "\n",
    "sales_summary = pd.DataFrame(non_skip_sales_counts, columns=['Count'])\n",
    "\n",
    "print(sales_summary.to_markdown())"
   ]
  },
  {
   "cell_type": "code",
   "execution_count": 19,
   "metadata": {},
   "outputs": [],
   "source": [
    "\n",
    "\n",
    "X = df_data.drop(columns=['id','preventive_visit_gap_ind'])\n",
    "y = df_data['preventive_visit_gap_ind']\n"
   ]
  },
  {
   "cell_type": "code",
   "execution_count": 20,
   "metadata": {},
   "outputs": [],
   "source": [
    "\n",
    "# split train/test set\n",
    "X_train, X_test, y_train, y_test = train_test_split(X, y, test_size=0.2, random_state=42)\n"
   ]
  },
  {
   "cell_type": "code",
   "execution_count": 21,
   "metadata": {},
   "outputs": [],
   "source": [
    "from sklearn.metrics import accuracy_score, classification_report, roc_auc_score"
   ]
  },
  {
   "cell_type": "code",
   "execution_count": 22,
   "metadata": {},
   "outputs": [],
   "source": [
    "\n",
    "# Best Model\n",
    "xgb_model = xgb.XGBClassifier(\n",
    "    objective='binary:logistic',\n",
    "    eval_metric='logloss',\n",
    "    random_state=42,\n",
    "    n_estimators = 550,\n",
    "    max_depth =  9, \n",
    "    learning_rate = 0.1, \n",
    "    gamma = 0.27,\n",
    "    subsample = 0.9,\n",
    "    colsample_bytree = 0.67,\n",
    "    reg_alpha = 1e-07,\n",
    "    reg_lambda = 100,\n",
    "    min_child_weight = 8\n",
    ")"
   ]
  },
  {
   "cell_type": "code",
   "execution_count": 23,
   "metadata": {},
   "outputs": [
    {
     "name": "stdout",
     "output_type": "stream",
     "text": [
      "Test Accuracy: 0.7010318049878755\n",
      "Test ROC-AUC Score: 0.768097792098058\n",
      "Train Accuracy: 0.7530112744340081\n",
      "Train ROC-AUC Score: 0.8299491776123515\n"
     ]
    }
   ],
   "source": [
    "# Check Manually\n",
    "xgb_model.fit(X_train, y_train)\n",
    "y_test_pred = xgb_model.predict(X_test)\n",
    "y_test_proba = xgb_model.predict_proba(X_test)[:, 1]\n",
    "\n",
    "y_train_pred = xgb_model.predict(X_train)\n",
    "y_train_proba = xgb_model.predict_proba(X_train)[:, 1]\n",
    "\n",
    "test_accuracy = accuracy_score(y_test, y_test_pred)\n",
    "test_roc_auc = roc_auc_score(y_test, y_test_proba)\n",
    "\n",
    "train_accuracy = accuracy_score(y_train, y_train_pred)\n",
    "train_roc_auc = roc_auc_score(y_train, y_train_proba)\n",
    "\n",
    "print(f\"Test Accuracy: {test_accuracy}\")\n",
    "print(f'Test ROC-AUC Score: {test_roc_auc}')\n",
    "\n",
    "print(f\"Train Accuracy: {train_accuracy}\")\n",
    "print(f'Train ROC-AUC Score: {train_roc_auc}')"
   ]
  },
  {
   "cell_type": "markdown",
   "metadata": {},
   "source": [
    "——————————————————————————————————————————————————————————————————————————————————————\n",
    "\n",
    "Feature Importance"
   ]
  },
  {
   "cell_type": "code",
   "execution_count": 24,
   "metadata": {},
   "outputs": [
    {
     "name": "stdout",
     "output_type": "stream",
     "text": [
      "Requirement already satisfied: matplotlib in /opt/anaconda3/lib/python3.12/site-packages (3.8.4)\n",
      "Requirement already satisfied: contourpy>=1.0.1 in /opt/anaconda3/lib/python3.12/site-packages (from matplotlib) (1.2.0)\n",
      "Requirement already satisfied: cycler>=0.10 in /opt/anaconda3/lib/python3.12/site-packages (from matplotlib) (0.11.0)\n",
      "Requirement already satisfied: fonttools>=4.22.0 in /opt/anaconda3/lib/python3.12/site-packages (from matplotlib) (4.51.0)\n",
      "Requirement already satisfied: kiwisolver>=1.3.1 in /opt/anaconda3/lib/python3.12/site-packages (from matplotlib) (1.4.4)\n",
      "Requirement already satisfied: numpy>=1.21 in /opt/anaconda3/lib/python3.12/site-packages (from matplotlib) (1.26.4)\n",
      "Requirement already satisfied: packaging>=20.0 in /opt/anaconda3/lib/python3.12/site-packages (from matplotlib) (23.2)\n",
      "Requirement already satisfied: pillow>=8 in /opt/anaconda3/lib/python3.12/site-packages (from matplotlib) (10.3.0)\n",
      "Requirement already satisfied: pyparsing>=2.3.1 in /opt/anaconda3/lib/python3.12/site-packages (from matplotlib) (3.0.9)\n",
      "Requirement already satisfied: python-dateutil>=2.7 in /opt/anaconda3/lib/python3.12/site-packages (from matplotlib) (2.9.0.post0)\n",
      "Requirement already satisfied: six>=1.5 in /opt/anaconda3/lib/python3.12/site-packages (from python-dateutil>=2.7->matplotlib) (1.16.0)\n",
      "Note: you may need to restart the kernel to use updated packages.\n"
     ]
    }
   ],
   "source": [
    "pip install matplotlib"
   ]
  },
  {
   "cell_type": "code",
   "execution_count": 19,
   "metadata": {},
   "outputs": [
    {
     "name": "stdout",
     "output_type": "stream",
     "text": [
      "                             feature  gain_score\n",
      "213               preventative_visit  179.001205\n",
      "236                      veteran_ind  176.083557\n",
      "232                  generic_grouper  158.277710\n",
      "12                  riskarr_downside  125.230759\n",
      "188         total_net_paid_pmpm_cost   93.434814\n",
      "231                         er_visit   82.399574\n",
      "227                      obgyn_visit   75.432884\n",
      "233            unattributed_provider   70.754356\n",
      "37            rx_overall_gpi_pmpm_ct   63.942036\n",
      "266                         state_NM   56.914074\n",
      "10                      disabled_ind   55.917744\n",
      "2    measure_type_Patient Experience   55.602352\n",
      "260                         state_MS   52.291378\n",
      "282                         state_WV   49.281540\n",
      "249                         state_IL   46.787910\n",
      "187          total_allowed_pmpm_cost   44.962631\n",
      "214               comp_physical_exam   44.690765\n",
      "189         total_cob_paid_pmpm_cost   43.416206\n",
      "0                      compliant_cnt   39.638416\n",
      "256                         state_ME   36.366272\n"
     ]
    },
    {
     "data": {
      "image/png": "[encoded data removed]",
      "text/plain": [
       "<Figure size 1000x600 with 1 Axes>"
      ]
     },
     "metadata": {},
     "output_type": "display_data"
    }
   ],
   "source": [
    "import pandas as pd\n",
    "import xgboost as xgb\n",
    "import matplotlib.pyplot as plt\n",
    "\n",
    "# Get feature importance by 'gain'\n",
    "importance_gain = xgb_model.get_booster().get_score(importance_type='gain')\n",
    "\n",
    "importance_gain_df = pd.DataFrame(importance_gain.items(), columns=['feature', 'gain_score'])\n",
    "importance_gain_df = importance_gain_df.sort_values(by='gain_score', ascending=False)\n",
    "\n",
    "top_gain_features = importance_gain_df.head(20)\n",
    "\n",
    "print(top_gain_features)\n",
    "\n",
    "plt.figure(figsize=(10, 6))\n",
    "top_gain_features.set_index('feature')['gain_score'].plot(kind='barh', color='blue')  # Changed to 'barh' for horizontal bars\n",
    "plt.title('Top 20 Feature Importance (By Gain)')\n",
    "plt.xlabel('Gain Score')  \n",
    "plt.ylabel('Feature')\n",
    "plt.gca().invert_yaxis()  \n",
    "plt.show()"
   ]
  },
  {
   "cell_type": "code",
   "execution_count": 22,
   "metadata": {},
   "outputs": [
    {
     "name": "stdout",
     "output_type": "stream",
     "text": [
      "                           feature  weight_score\n",
      "200         cms_tot_ma_payment_amt        2642.0\n",
      "201      cms_tot_partd_payment_amt        2419.0\n",
      "0                    compliant_cnt        2313.0\n",
      "194            days_since_last_clm        2282.0\n",
      "235                            age        2067.0\n",
      "188       total_net_paid_pmpm_cost        1885.0\n",
      "193       total_mbr_resp_pmpm_cost        1796.0\n",
      "7                    all_mm_tenure        1779.0\n",
      "191          total_copay_pmpm_cost        1756.0\n",
      "32   rx_overall_net_paid_pmpm_cost        1630.0\n",
      "6              consec_tenure_month        1609.0\n",
      "36   rx_overall_mbr_resp_pmpm_cost        1607.0\n",
      "187        total_allowed_pmpm_cost        1588.0\n",
      "168    cnt_cp_webstatement_pmpm_ct        1585.0\n",
      "31            rx_overall_pmpm_cost        1571.0\n",
      "34      rx_overall_copay_pmpm_cost        1524.0\n",
      "114      rwjf_diabetes_monitor_pct        1494.0\n",
      "98             rwjf_dui_deaths_pct        1492.0\n",
      "44       rx_days_since_last_script        1462.0\n",
      "40               rx_tier_1_pmpm_ct        1409.0\n"
     ]
    },
    {
     "data": {
      "image/png": "[encoded data removed]",
      "text/plain": [
       "<Figure size 1000x600 with 1 Axes>"
      ]
     },
     "metadata": {},
     "output_type": "display_data"
    },
    {
     "name": "stdout",
     "output_type": "stream",
     "text": [
      "                            feature  gain_score  weight_score\n",
      "0                               age         NaN        2067.0\n",
      "1                     all_mm_tenure         NaN        1779.0\n",
      "2            cms_tot_ma_payment_amt         NaN        2642.0\n",
      "3         cms_tot_partd_payment_amt         NaN        2419.0\n",
      "4       cnt_cp_webstatement_pmpm_ct         NaN        1585.0\n",
      "5                comp_physical_exam   44.690765           NaN\n",
      "6                     compliant_cnt   39.638416        2313.0\n",
      "7               consec_tenure_month         NaN        1609.0\n",
      "8               days_since_last_clm         NaN        2282.0\n",
      "9                      disabled_ind   55.917744           NaN\n",
      "10                         er_visit   82.399574           NaN\n",
      "11                  generic_grouper  158.277710           NaN\n",
      "12  measure_type_Patient Experience   55.602352           NaN\n",
      "13                      obgyn_visit   75.432884           NaN\n",
      "14               preventative_visit  179.001205           NaN\n",
      "15                 riskarr_downside  125.230759           NaN\n",
      "16        rwjf_diabetes_monitor_pct         NaN        1494.0\n",
      "17              rwjf_dui_deaths_pct         NaN        1492.0\n",
      "18        rx_days_since_last_script         NaN        1462.0\n",
      "19       rx_overall_copay_pmpm_cost         NaN        1524.0\n",
      "20           rx_overall_gpi_pmpm_ct   63.942036           NaN\n",
      "21    rx_overall_mbr_resp_pmpm_cost         NaN        1607.0\n",
      "22    rx_overall_net_paid_pmpm_cost         NaN        1630.0\n",
      "23             rx_overall_pmpm_cost         NaN        1571.0\n",
      "24                rx_tier_1_pmpm_ct         NaN        1409.0\n",
      "25                         state_IL   46.787910           NaN\n",
      "26                         state_ME   36.366272           NaN\n",
      "27                         state_MS   52.291378           NaN\n",
      "28                         state_NM   56.914074           NaN\n",
      "29                         state_WV   49.281540           NaN\n",
      "30          total_allowed_pmpm_cost   44.962631        1588.0\n",
      "31         total_cob_paid_pmpm_cost   43.416206           NaN\n",
      "32            total_copay_pmpm_cost         NaN        1756.0\n",
      "33         total_mbr_resp_pmpm_cost         NaN        1796.0\n",
      "34         total_net_paid_pmpm_cost   93.434814        1885.0\n",
      "35            unattributed_provider   70.754356           NaN\n",
      "36                      veteran_ind  176.083557           NaN\n"
     ]
    }
   ],
   "source": [
    "# Get feature importance scores by 'weight'\n",
    "importance_weight = xgb_model.get_booster().get_score(importance_type='weight')\n",
    "\n",
    "importance_weight_df = pd.DataFrame(importance_weight.items(), columns=['feature', 'weight_score'])\n",
    "importance_weight_df = importance_weight_df.sort_values(by='weight_score', ascending=False)\n",
    "\n",
    "top_weight_features = importance_weight_df.head(20)\n",
    "\n",
    "print(top_weight_features)\n",
    "\n",
    "plt.figure(figsize=(10, 6))\n",
    "top_weight_features.set_index('feature')['weight_score'].plot(kind='barh', color='blue')  # Changed to 'barh' for horizontal bars\n",
    "plt.title('Top 20 Feature Importance (By Weight)')\n",
    "plt.xlabel('Weight Score')  \n",
    "plt.ylabel('Feature')\n",
    "plt.gca().invert_yaxis()  \n",
    "plt.show()\n",
    "\n",
    "combined_features = pd.merge(top_gain_features, top_weight_features, on='feature', how='outer', suffixes=('_gain', '_weight'))\n",
    "\n",
    "print(combined_features)"
   ]
  },
  {
   "cell_type": "code",
   "execution_count": 15,
   "metadata": {},
   "outputs": [
    {
     "name": "stdout",
     "output_type": "stream",
     "text": [
      "predictions\n",
      "1    111142\n",
      "0     58766\n",
      "Name: count, dtype: int64\n",
      "predictions\n",
      "0    957581\n",
      "1    570323\n",
      "Name: count, dtype: int64\n"
     ]
    }
   ],
   "source": [
    "# Check Veteran is good or bad\n",
    "df_data['predictions'] = xgb_model.predict(X)\n",
    "\n",
    "# Check how often veterans are 1 or 0\n",
    "veteran_pred_distribution = df_data[df_data['veteran_ind'] == 1]['predictions'].value_counts()\n",
    "print(veteran_pred_distribution)\n",
    "\n",
    "# Compare to  general population\n",
    "general_pred_distribution = df_data['predictions'].value_counts()\n",
    "print(general_pred_distribution)"
   ]
  },
  {
   "cell_type": "markdown",
   "metadata": {},
   "source": [
    "——————————————————————————————————————————————————————————————————————————————————————\n",
    "\n",
    "Clustering"
   ]
  },
  {
   "cell_type": "code",
   "execution_count": 25,
   "metadata": {},
   "outputs": [],
   "source": [
    "# Define the important features based on analysis\n",
    "#selected_features = ['age', 'cms_tot_ma_payment_amt', 'cms_tot_partd_payment_amt', 'compliant_cnt', \n",
    "                     #'days_since_last_clm', 'er_visit', 'generic_grouper', 'preventative_visit', \n",
    "                     #'riskarr_downside', 'total_allowed_pmpm_cost', 'total_net_paid_pmpm_cost', 'veteran_ind']\n",
    "\n",
    "selected_features = [\n",
    "    'age', 'all_mm_tenure', 'cms_tot_ma_payment_amt', 'cms_tot_partd_payment_amt',\n",
    "    'cnt_cp_webstatement_pmpm_ct', 'comp_physical_exam', 'compliant_cnt', 'consec_tenure_month',\n",
    "    'days_since_last_clm', 'disabled_ind', 'er_visit', 'generic_grouper', 'measure_type_Patient Experience',\n",
    "    'obgyn_visit', 'preventative_visit', 'riskarr_downside', 'rwjf_diabetes_monitor_pct', 'rwjf_dui_deaths_pct',\n",
    "    'rx_days_since_last_script', 'rx_overall_copay_pmpm_cost', 'rx_overall_gpi_pmpm_ct', \n",
    "    'rx_overall_mbr_resp_pmpm_cost', 'rx_overall_net_paid_pmpm_cost', 'rx_overall_pmpm_cost', \n",
    "    'rx_tier_1_pmpm_ct', 'state_IL', 'state_ME', 'state_MS', 'state_NM', 'state_WV', \n",
    "    'total_allowed_pmpm_cost', 'total_cob_paid_pmpm_cost', 'total_copay_pmpm_cost', \n",
    "    'total_mbr_resp_pmpm_cost', 'total_net_paid_pmpm_cost', 'unattributed_provider', 'veteran_ind'\n",
    "]\n",
    "\n",
    "# Filter dataset to only include the selected features\n",
    "X_selected = X_test[selected_features]  # Create a new dataframe with only the important features"
   ]
  },
  {
   "cell_type": "code",
   "execution_count": 28,
   "metadata": {},
   "outputs": [
    {
     "name": "stdout",
     "output_type": "stream",
     "text": [
      "               age  all_mm_tenure  cms_tot_ma_payment_amt  \\\n",
      "Cluster                                                     \n",
      "0        71.786617      56.359770             2430.284519   \n",
      "1        72.372204      53.776868              866.856643   \n",
      "2        67.752515      54.799799             1794.903702   \n",
      "\n",
      "         cms_tot_partd_payment_amt  cnt_cp_webstatement_pmpm_ct  \\\n",
      "Cluster                                                           \n",
      "0                       212.303281                     9.124042   \n",
      "1                       148.836257                     2.758695   \n",
      "2                       305.175755                     5.490626   \n",
      "\n",
      "         comp_physical_exam  compliant_cnt  consec_tenure_month  \\\n",
      "Cluster                                                           \n",
      "0                  0.019605       0.703914            51.849968   \n",
      "1                  0.024536       0.772551            50.263373   \n",
      "2                  0.032696       0.780229            51.213280   \n",
      "\n",
      "         days_since_last_clm  disabled_ind  er_visit  generic_grouper  \\\n",
      "Cluster                                                                 \n",
      "0                  22.757129      0.393065  0.802252         0.384964   \n",
      "1                  77.030898      0.253735  0.349907         0.412362   \n",
      "2                  29.921026      0.489437  0.511066         0.389336   \n",
      "\n",
      "         measure_type_Patient Experience  obgyn_visit  preventative_visit  \\\n",
      "Cluster                                                                     \n",
      "0                               0.523817     0.092029            0.037913   \n",
      "1                               0.435143     0.080718            0.046211   \n",
      "2                               0.539235     0.120221            0.067404   \n",
      "\n",
      "         riskarr_downside  rwjf_diabetes_monitor_pct  rwjf_dui_deaths_pct  \\\n",
      "Cluster                                                                     \n",
      "0                0.084251                   0.854398             0.266044   \n",
      "1                0.094517                   0.854007             0.268271   \n",
      "2                0.081489                   0.856691             0.269837   \n",
      "\n",
      "         rx_days_since_last_script  rx_overall_copay_pmpm_cost  \\\n",
      "Cluster                                                          \n",
      "0                        42.151491                   22.765043   \n",
      "1                        80.304097                   12.718710   \n",
      "2                        10.254527                   49.841698   \n",
      "\n",
      "         rx_overall_gpi_pmpm_ct  rx_overall_mbr_resp_pmpm_cost  \\\n",
      "Cluster                                                          \n",
      "0                      4.248140                      46.203899   \n",
      "1                      2.232404                      23.672085   \n",
      "2                      5.500426                     290.151473   \n",
      "\n",
      "         rx_overall_net_paid_pmpm_cost  rx_overall_pmpm_cost  \\\n",
      "Cluster                                                        \n",
      "0                           526.271949            572.525260   \n",
      "1                           206.611427            230.382143   \n",
      "2                         12395.086447          12685.920717   \n",
      "\n",
      "         rx_tier_1_pmpm_ct  state_IL  state_ME  state_MS  state_NM  state_WV  \\\n",
      "Cluster                                                                        \n",
      "0                 2.139128  0.029569  0.002187  0.025437  0.011180  0.044232   \n",
      "1                 1.265269  0.025404  0.003203  0.025164  0.014403  0.042441   \n",
      "2                 2.098252  0.023642  0.001509  0.029678  0.010563  0.062877   \n",
      "\n",
      "         total_allowed_pmpm_cost  total_cob_paid_pmpm_cost  \\\n",
      "Cluster                                                      \n",
      "0                    5910.391091                  5.176186   \n",
      "1                     422.456819                  0.946878   \n",
      "2                    1593.538918                  0.621610   \n",
      "\n",
      "         total_copay_pmpm_cost  total_mbr_resp_pmpm_cost  \\\n",
      "Cluster                                                    \n",
      "0                   213.305114                387.047859   \n",
      "1                    35.151952                 50.820667   \n",
      "2                    75.095319                154.448174   \n",
      "\n",
      "         total_net_paid_pmpm_cost  unattributed_provider  veteran_ind  \n",
      "Cluster                                                                \n",
      "0                     5457.050347               0.115117     0.082307  \n",
      "1                      366.596731               0.164474     0.113291  \n",
      "2                     1421.611473               0.125755     0.040744  \n"
     ]
    },
    {
     "name": "stderr",
     "output_type": "stream",
     "text": [
      "/var/folders/kl/s32vk23s4bgfkqkwtq8dlh440000gn/T/ipykernel_7683/3134814039.py:6: SettingWithCopyWarning: \n",
      "A value is trying to be set on a copy of a slice from a DataFrame.\n",
      "Try using .loc[row_indexer,col_indexer] = value instead\n",
      "\n",
      "See the caveats in the documentation: https://pandas.pydata.org/pandas-docs/stable/user_guide/indexing.html#returning-a-view-versus-a-copy\n",
      "  X_selected['Cluster'] = kmeans.fit_predict(X_selected)\n"
     ]
    }
   ],
   "source": [
    "from sklearn.cluster import KMeans\n",
    "\n",
    "# Perform KMeans clustering on the filtered dataset\n",
    "n_clusters = 3  \n",
    "kmeans = KMeans(n_clusters=n_clusters, random_state=42)\n",
    "X_selected['Cluster'] = kmeans.fit_predict(X_selected)\n",
    "\n",
    "X_test['Cluster'] = X_selected['Cluster']\n",
    "\n",
    "cluster_means = X_test.groupby('Cluster')[selected_features].mean()\n",
    "\n",
    "print(cluster_means)"
   ]
  },
  {
   "cell_type": "code",
   "execution_count": 31,
   "metadata": {},
   "outputs": [
    {
     "data": {
      "image/png": "[encoded data removed]",
      "text/plain": [
       "<Figure size 800x600 with 1 Axes>"
      ]
     },
     "metadata": {},
     "output_type": "display_data"
    }
   ],
   "source": [
    "from sklearn.cluster import KMeans\n",
    "import matplotlib.pyplot as plt\n",
    "\n",
    "inertias = []\n",
    "for k in range(1, 11):  \n",
    "    kmeans = KMeans(n_clusters=k, random_state=42)\n",
    "    kmeans.fit(X_selected)\n",
    "    inertias.append(kmeans.inertia_)\n",
    "\n",
    "plt.figure(figsize=(8, 6))\n",
    "plt.plot(range(1, 11), inertias, marker='o')\n",
    "plt.title('Elbow Method for Optimal Number of Clusters')\n",
    "plt.xlabel('Number of Clusters')\n",
    "plt.ylabel('Inertia (Sum of Squared Distances)')\n",
    "plt.show()"
   ]
  },
  {
   "cell_type": "code",
   "execution_count": 35,
   "metadata": {},
   "outputs": [
    {
     "name": "stdout",
     "output_type": "stream",
     "text": [
      "Feature means by cluster:\n",
      "               age  cms_tot_ma_payment_amt  cms_tot_partd_payment_amt  \\\n",
      "Cluster                                                                 \n",
      "0        72.716603             1876.087993                 198.723451   \n",
      "1        72.302193              835.657381                 147.709213   \n",
      "2        70.127485             3228.417908                 236.704507   \n",
      "\n",
      "         compliant_cnt  days_since_last_clm  er_visit  generic_grouper  \\\n",
      "Cluster                                                                  \n",
      "0             0.716065            25.689662  0.763698         0.380980   \n",
      "1             0.775058            79.222083  0.331336         0.413944   \n",
      "2             0.700516            18.877701  0.820225         0.383319   \n",
      "\n",
      "         preventative_visit  riskarr_downside  total_allowed_pmpm_cost  \\\n",
      "Cluster                                                                  \n",
      "0                  0.041549          0.087692              3331.647156   \n",
      "1                  0.046477          0.094736               327.740576   \n",
      "2                  0.036733          0.073466             11748.767986   \n",
      "\n",
      "         total_net_paid_pmpm_cost  veteran_ind  \n",
      "Cluster                                         \n",
      "0                     3026.556824     0.086616  \n",
      "1                      280.495607     0.113972  \n",
      "2                    11036.318033     0.082109  \n"
     ]
    }
   ],
   "source": [
    "# Check mean feature values by cluster\n",
    "cluster_feature_means = X_test.groupby('Cluster')[selected_features].mean()\n",
    "\n",
    "print(\"Feature means by cluster:\")\n",
    "print(cluster_feature_means)"
   ]
  },
  {
   "cell_type": "markdown",
   "metadata": {},
   "source": [
    "PCA"
   ]
  },
  {
   "cell_type": "code",
   "execution_count": 40,
   "metadata": {},
   "outputs": [
    {
     "data": {
      "image/png": "[encoded data removed]",
      "text/plain": [
       "<Figure size 640x480 with 1 Axes>"
      ]
     },
     "metadata": {},
     "output_type": "display_data"
    },
    {
     "name": "stdout",
     "output_type": "stream",
     "text": [
      "[0.21037223 0.1085997 ]\n"
     ]
    }
   ],
   "source": [
    "from sklearn.preprocessing import StandardScaler\n",
    "from sklearn.decomposition import PCA\n",
    "\n",
    "X_standardized = StandardScaler().fit_transform(X_selected)  \n",
    "\n",
    "pca = PCA(n_components=2)  \n",
    "X_pca = pca.fit_transform(X_standardized)\n",
    "\n",
    "plt.scatter(X_pca[:, 0], X_pca[:, 1])\n",
    "plt.xlabel('First Principal Component')\n",
    "plt.ylabel('Second Principal Component')\n",
    "plt.title('PCA of Selected Important Features')\n",
    "plt.show()\n",
    "\n",
    "print(pca.explained_variance_ratio_)\n"
   ]
  },
  {
   "cell_type": "code",
   "execution_count": 41,
   "metadata": {},
   "outputs": [
    {
     "data": {
      "image/png": "[encoded data removed]",
      "text/plain": [
       "<Figure size 640x480 with 2 Axes>"
      ]
     },
     "metadata": {},
     "output_type": "display_data"
    }
   ],
   "source": [
    "plt.scatter(X_pca[:, 0], X_pca[:, 1], c=y_test, cmap='coolwarm')  \n",
    "plt.xlabel('First Principal Component')\n",
    "plt.ylabel('Second Principal Component')\n",
    "plt.title('PCA with Label Coloring')\n",
    "plt.colorbar(label='Skip Preventive Medicine (1 = Skip, 0 = No Skip)')\n",
    "plt.show()"
   ]
  },
  {
   "cell_type": "code",
   "execution_count": 42,
   "metadata": {},
   "outputs": [
    {
     "data": {
      "image/png": "[encoded data removed]",
      "text/plain": [
       "<Figure size 640x480 with 2 Axes>"
      ]
     },
     "metadata": {},
     "output_type": "display_data"
    }
   ],
   "source": [
    "from sklearn.cluster import KMeans\n",
    "\n",
    "kmeans_pca = KMeans(n_clusters=3, random_state=42)\n",
    "clusters_pca = kmeans_pca.fit_predict(X_pca)\n",
    "\n",
    "plt.scatter(X_pca[:, 0], X_pca[:, 1], c=clusters_pca, cmap='viridis')\n",
    "plt.xlabel('First Principal Component')\n",
    "plt.ylabel('Second Principal Component')\n",
    "plt.title('KMeans Clustering in PCA Space')\n",
    "plt.colorbar(label='Cluster')\n",
    "plt.show()"
   ]
  },
  {
   "cell_type": "code",
   "execution_count": 44,
   "metadata": {},
   "outputs": [
    {
     "ename": "KeyError",
     "evalue": "\"['SCORE'] not in index\"",
     "output_type": "error",
     "traceback": [
      "\u001b[1;31m---------------------------------------------------------------------------\u001b[0m",
      "\u001b[1;31mKeyError\u001b[0m                                  Traceback (most recent call last)",
      "Cell \u001b[1;32mIn[44], line 10\u001b[0m\n\u001b[0;32m      5\u001b[0m selected_features \u001b[38;5;241m=\u001b[39m [\u001b[38;5;124m'\u001b[39m\u001b[38;5;124mage\u001b[39m\u001b[38;5;124m'\u001b[39m, \u001b[38;5;124m'\u001b[39m\u001b[38;5;124mcms_tot_ma_payment_amt\u001b[39m\u001b[38;5;124m'\u001b[39m, \u001b[38;5;124m'\u001b[39m\u001b[38;5;124mcms_tot_partd_payment_amt\u001b[39m\u001b[38;5;124m'\u001b[39m, \u001b[38;5;124m'\u001b[39m\u001b[38;5;124mcompliant_cnt\u001b[39m\u001b[38;5;124m'\u001b[39m, \u001b[38;5;124m'\u001b[39m\u001b[38;5;124mdays_since_last_clm\u001b[39m\u001b[38;5;124m'\u001b[39m, \n\u001b[0;32m      6\u001b[0m                      \u001b[38;5;124m'\u001b[39m\u001b[38;5;124mer_visit\u001b[39m\u001b[38;5;124m'\u001b[39m, \u001b[38;5;124m'\u001b[39m\u001b[38;5;124mgeneric_grouper\u001b[39m\u001b[38;5;124m'\u001b[39m, \u001b[38;5;124m'\u001b[39m\u001b[38;5;124mpreventative_visit\u001b[39m\u001b[38;5;124m'\u001b[39m, \u001b[38;5;124m'\u001b[39m\u001b[38;5;124mriskarr_downside\u001b[39m\u001b[38;5;124m'\u001b[39m, \u001b[38;5;124m'\u001b[39m\u001b[38;5;124mtotal_allowed_pmpm_cost\u001b[39m\u001b[38;5;124m'\u001b[39m, \n\u001b[0;32m      7\u001b[0m                      \u001b[38;5;124m'\u001b[39m\u001b[38;5;124mtotal_net_paid_pmpm_cost\u001b[39m\u001b[38;5;124m'\u001b[39m, \u001b[38;5;124m'\u001b[39m\u001b[38;5;124mveteran_ind\u001b[39m\u001b[38;5;124m'\u001b[39m]\n\u001b[0;32m      9\u001b[0m \u001b[38;5;66;03m# Filter your dataset to only include the selected features and the target\u001b[39;00m\n\u001b[1;32m---> 10\u001b[0m data \u001b[38;5;241m=\u001b[39m \u001b[43mX_test\u001b[49m\u001b[43m[\u001b[49m\u001b[43mselected_features\u001b[49m\u001b[43m \u001b[49m\u001b[38;5;241;43m+\u001b[39;49m\u001b[43m \u001b[49m\u001b[43m[\u001b[49m\u001b[38;5;124;43m'\u001b[39;49m\u001b[38;5;124;43mSCORE\u001b[39;49m\u001b[38;5;124;43m'\u001b[39;49m\u001b[43m]\u001b[49m\u001b[43m]\u001b[49m\n\u001b[0;32m     12\u001b[0m \u001b[38;5;66;03m# Calculate the Pearson correlation between each feature and the target\u001b[39;00m\n\u001b[0;32m     13\u001b[0m correlations \u001b[38;5;241m=\u001b[39m data\u001b[38;5;241m.\u001b[39mcorr()[\u001b[38;5;124m'\u001b[39m\u001b[38;5;124mSCORE\u001b[39m\u001b[38;5;124m'\u001b[39m]\u001b[38;5;241m.\u001b[39msort_values(ascending\u001b[38;5;241m=\u001b[39m\u001b[38;5;28;01mFalse\u001b[39;00m)\n",
      "File \u001b[1;32mc:\\Users\\nd195\\AppData\\Local\\Programs\\Python\\Python313\\Lib\\site-packages\\pandas\\core\\frame.py:4108\u001b[0m, in \u001b[0;36mDataFrame.__getitem__\u001b[1;34m(self, key)\u001b[0m\n\u001b[0;32m   4106\u001b[0m     \u001b[38;5;28;01mif\u001b[39;00m is_iterator(key):\n\u001b[0;32m   4107\u001b[0m         key \u001b[38;5;241m=\u001b[39m \u001b[38;5;28mlist\u001b[39m(key)\n\u001b[1;32m-> 4108\u001b[0m     indexer \u001b[38;5;241m=\u001b[39m \u001b[38;5;28;43mself\u001b[39;49m\u001b[38;5;241;43m.\u001b[39;49m\u001b[43mcolumns\u001b[49m\u001b[38;5;241;43m.\u001b[39;49m\u001b[43m_get_indexer_strict\u001b[49m\u001b[43m(\u001b[49m\u001b[43mkey\u001b[49m\u001b[43m,\u001b[49m\u001b[43m \u001b[49m\u001b[38;5;124;43m\"\u001b[39;49m\u001b[38;5;124;43mcolumns\u001b[39;49m\u001b[38;5;124;43m\"\u001b[39;49m\u001b[43m)\u001b[49m[\u001b[38;5;241m1\u001b[39m]\n\u001b[0;32m   4110\u001b[0m \u001b[38;5;66;03m# take() does not accept boolean indexers\u001b[39;00m\n\u001b[0;32m   4111\u001b[0m \u001b[38;5;28;01mif\u001b[39;00m \u001b[38;5;28mgetattr\u001b[39m(indexer, \u001b[38;5;124m\"\u001b[39m\u001b[38;5;124mdtype\u001b[39m\u001b[38;5;124m\"\u001b[39m, \u001b[38;5;28;01mNone\u001b[39;00m) \u001b[38;5;241m==\u001b[39m \u001b[38;5;28mbool\u001b[39m:\n",
      "File \u001b[1;32mc:\\Users\\nd195\\AppData\\Local\\Programs\\Python\\Python313\\Lib\\site-packages\\pandas\\core\\indexes\\base.py:6200\u001b[0m, in \u001b[0;36mIndex._get_indexer_strict\u001b[1;34m(self, key, axis_name)\u001b[0m\n\u001b[0;32m   6197\u001b[0m \u001b[38;5;28;01melse\u001b[39;00m:\n\u001b[0;32m   6198\u001b[0m     keyarr, indexer, new_indexer \u001b[38;5;241m=\u001b[39m \u001b[38;5;28mself\u001b[39m\u001b[38;5;241m.\u001b[39m_reindex_non_unique(keyarr)\n\u001b[1;32m-> 6200\u001b[0m \u001b[38;5;28;43mself\u001b[39;49m\u001b[38;5;241;43m.\u001b[39;49m\u001b[43m_raise_if_missing\u001b[49m\u001b[43m(\u001b[49m\u001b[43mkeyarr\u001b[49m\u001b[43m,\u001b[49m\u001b[43m \u001b[49m\u001b[43mindexer\u001b[49m\u001b[43m,\u001b[49m\u001b[43m \u001b[49m\u001b[43maxis_name\u001b[49m\u001b[43m)\u001b[49m\n\u001b[0;32m   6202\u001b[0m keyarr \u001b[38;5;241m=\u001b[39m \u001b[38;5;28mself\u001b[39m\u001b[38;5;241m.\u001b[39mtake(indexer)\n\u001b[0;32m   6203\u001b[0m \u001b[38;5;28;01mif\u001b[39;00m \u001b[38;5;28misinstance\u001b[39m(key, Index):\n\u001b[0;32m   6204\u001b[0m     \u001b[38;5;66;03m# GH 42790 - Preserve name from an Index\u001b[39;00m\n",
      "File \u001b[1;32mc:\\Users\\nd195\\AppData\\Local\\Programs\\Python\\Python313\\Lib\\site-packages\\pandas\\core\\indexes\\base.py:6252\u001b[0m, in \u001b[0;36mIndex._raise_if_missing\u001b[1;34m(self, key, indexer, axis_name)\u001b[0m\n\u001b[0;32m   6249\u001b[0m     \u001b[38;5;28;01mraise\u001b[39;00m \u001b[38;5;167;01mKeyError\u001b[39;00m(\u001b[38;5;124mf\u001b[39m\u001b[38;5;124m\"\u001b[39m\u001b[38;5;124mNone of [\u001b[39m\u001b[38;5;132;01m{\u001b[39;00mkey\u001b[38;5;132;01m}\u001b[39;00m\u001b[38;5;124m] are in the [\u001b[39m\u001b[38;5;132;01m{\u001b[39;00maxis_name\u001b[38;5;132;01m}\u001b[39;00m\u001b[38;5;124m]\u001b[39m\u001b[38;5;124m\"\u001b[39m)\n\u001b[0;32m   6251\u001b[0m not_found \u001b[38;5;241m=\u001b[39m \u001b[38;5;28mlist\u001b[39m(ensure_index(key)[missing_mask\u001b[38;5;241m.\u001b[39mnonzero()[\u001b[38;5;241m0\u001b[39m]]\u001b[38;5;241m.\u001b[39munique())\n\u001b[1;32m-> 6252\u001b[0m \u001b[38;5;28;01mraise\u001b[39;00m \u001b[38;5;167;01mKeyError\u001b[39;00m(\u001b[38;5;124mf\u001b[39m\u001b[38;5;124m\"\u001b[39m\u001b[38;5;132;01m{\u001b[39;00mnot_found\u001b[38;5;132;01m}\u001b[39;00m\u001b[38;5;124m not in index\u001b[39m\u001b[38;5;124m\"\u001b[39m)\n",
      "\u001b[1;31mKeyError\u001b[0m: \"['SCORE'] not in index\""
     ]
    }
   ],
   "source": [
    "import pandas as pd\n",
    "\n",
    "selected_features = ['age', 'cms_tot_ma_payment_amt', 'cms_tot_partd_payment_amt', 'compliant_cnt', 'days_since_last_clm', \n",
    "                     'er_visit', 'generic_grouper', 'preventative_visit', 'riskarr_downside', 'total_allowed_pmpm_cost', \n",
    "                     'total_net_paid_pmpm_cost', 'veteran_ind']\n",
    "\n",
    "\n",
    "correlation_data = df_data[selected_features + ['preventive_visit_gap_ind']]\n",
    "\n",
    "correlation_matrix = correlation_data.corr()\n",
    "\n",
    "print(correlation_matrix['preventive_visit_gap_ind'].sort_values(ascending=False))\n"
   ]
  },
  {
   "cell_type": "code",
   "execution_count": 144,
   "metadata": {},
   "outputs": [
    {
     "data": {
      "image/png": "[encoded data removed]",
      "text/plain": [
       "<Figure size 1000x600 with 2 Axes>"
      ]
     },
     "metadata": {},
     "output_type": "display_data"
    }
   ],
   "source": [
    "import matplotlib.pyplot as plt\n",
    "import numpy as np\n",
    "\n",
    "# Data from the table\n",
    "clusters = ['1', '2', '3', '4', '5', '6', '7']\n",
    "count = [81699, 344761, 36050, 993, 154, 194119, 52005]\n",
    "skip_count = [41147, 169249, 22814, 612, 127, 115045, 46116]\n",
    "skip_rate = [50.36, 49.09, 63.28, 61.63, 82.47, 59.27, 88.68]\n",
    "baseline_skip_rate = 35.69  \n",
    "\n",
    "bar_width = 0.35\n",
    "index = np.arange(len(clusters))\n",
    "\n",
    "fig, ax1 = plt.subplots(figsize=(10,6))  \n",
    "\n",
    "bar1 = ax1.bar(index, count, bar_width, label='Total Count', color='green')\n",
    "bar2 = ax1.bar(index + bar_width, skip_count, bar_width, label='Skip Count', color='grey')\n",
    "\n",
    "ax2 = ax1.twinx()\n",
    "line = ax2.plot(index + bar_width / 2, skip_rate, color='red', marker='o', label='Skip Rate')\n",
    "\n",
    "ax2.axhline(y=baseline_skip_rate, color='blue', linestyle='--', label='Baseline Skip Rate (35.69%)')\n",
    "\n",
    "ax1.set_xlabel('Cluster (U, G, V)')\n",
    "ax1.set_ylabel('Count')\n",
    "ax2.set_ylabel('Skip Rate (%)')\n",
    "ax1.set_title('Population and Skip Rate by Cluster')\n",
    "\n",
    "fig.legend(loc='upper center', bbox_to_anchor=(0.52, -0.0), ncol=4)\n",
    "\n",
    "plt.tight_layout(rect=[0, 0, 1, 0.95])\n",
    "\n",
    "plt.xticks(index + bar_width / 2, clusters)\n",
    "plt.show()"
   ]
  },
  {
   "cell_type": "code",
   "execution_count": 148,
   "metadata": {},
   "outputs": [
    {
     "data": {
      "image/png": "[encoded data removed]",
      "text/plain": [
       "<Figure size 800x600 with 1 Axes>"
      ]
     },
     "metadata": {},
     "output_type": "display_data"
    }
   ],
   "source": [
    "import matplotlib.pyplot as plt\n",
    "import pandas as pd\n",
    "\n",
    "# Data\n",
    "groups = ['Baseline', 'Group 1', 'Group 2', 'Group 6', 'Group 7']\n",
    "cnt_cp_webstatement_pmpm_ct = [3.269677, 2.737903, 3.1961, 2.439582, 1.193579]\n",
    "\n",
    "# Create DataFrame\n",
    "df = pd.DataFrame({\n",
    "    'groups': groups,\n",
    "    'cnt_cp_webstatement_pmpm_ct': cnt_cp_webstatement_pmpm_ct\n",
    "})\n",
    "\n",
    "plt.figure(figsize=(8, 6))\n",
    "plt.plot(df['groups'], df['cnt_cp_webstatement_pmpm_ct'], marker='o', color='green')\n",
    "plt.title('Web Statement Count per Member per Month (PMPM)')\n",
    "plt.xlabel('Groups')\n",
    "plt.ylabel('Count per Member per Month (PMPM)')\n",
    "plt.grid(True)\n",
    "plt.show()"
   ]
  },
  {
   "cell_type": "code",
   "execution_count": 156,
   "metadata": {},
   "outputs": [
    {
     "data": {
      "image/png": "[encoded data removed]",
      "text/plain": [
       "<Figure size 800x600 with 1 Axes>"
      ]
     },
     "metadata": {},
     "output_type": "display_data"
    }
   ],
   "source": [
    "import matplotlib.pyplot as plt\n",
    "import pandas as pd\n",
    "\n",
    "# Data\n",
    "groups = ['Baseline', 'Group 1', 'Group 2', 'Group 6', 'Group 7']\n",
    "median_house_income = [61359.61, 61183.54, 55549.47, 60380.65, 58781.90]\n",
    "\n",
    "# Create DataFrame\n",
    "df = pd.DataFrame({\n",
    "    'groups': groups,\n",
    "    'median_house_income': median_house_income\n",
    "})\n",
    "\n",
    "plt.figure(figsize=(8, 6))\n",
    "plt.bar(df['groups'], df['median_house_income'], color='green')\n",
    "plt.title('Median Household Income by Group')\n",
    "plt.xlabel('Group from clustering analysis')\n",
    "plt.ylabel('Median Household Income')\n",
    "plt.show()"
   ]
  },
  {
   "cell_type": "code",
   "execution_count": 160,
   "metadata": {},
   "outputs": [
    {
     "data": {
      "image/png": "[encoded data removed]",
      "text/plain": [
       "<Figure size 800x600 with 1 Axes>"
      ]
     },
     "metadata": {},
     "output_type": "display_data"
    }
   ],
   "source": [
    "import matplotlib.pyplot as plt\n",
    "import pandas as pd\n",
    "\n",
    "# Data\n",
    "groups = ['Baseline', 'Group 1', 'Group 2', 'Group 6', 'Group 7']\n",
    "days_since_last_clm = [55.950305, 92.75395, 58.826703, 125.502248, 227.902067]\n",
    "days_since_last_script = [51.319577, 157.909436, 54.023486, 119.237236, 312.741198]\n",
    "\n",
    "# Create DataFrame\n",
    "df = pd.DataFrame({\n",
    "    'groups': groups,\n",
    "    'days_since_last_clm': days_since_last_clm,\n",
    "    'days_since_last_script': days_since_last_script\n",
    "})\n",
    "\n",
    "plt.figure(figsize=(8, 6))\n",
    "bar_width = 0.35\n",
    "index = range(len(df['groups']))\n",
    "\n",
    "plt.bar(index, df['days_since_last_clm'], bar_width, label='Days Since Last Claim', color='grey')\n",
    "plt.bar([i + bar_width for i in index], df['days_since_last_script'], bar_width, label='Days Since Last Script', color='green')\n",
    "\n",
    "plt.title('Days Since Last Claim and Prescript by Group')\n",
    "plt.xlabel('Group from clustering analysis')\n",
    "plt.ylabel('Days')\n",
    "plt.xticks([i + bar_width / 2 for i in index], df['groups'])\n",
    "plt.legend()\n",
    "plt.show()"
   ]
  },
  {
   "cell_type": "code",
   "execution_count": 185,
   "metadata": {},
   "outputs": [
    {
     "data": {
      "image/png": "[encoded data removed]",
      "text/plain": [
       "<Figure size 1000x600 with 1 Axes>"
      ]
     },
     "metadata": {},
     "output_type": "display_data"
    }
   ],
   "source": [
    "import matplotlib.pyplot as plt\n",
    "import numpy as np\n",
    "\n",
    "groups = ['Group 1', 'Group 2', 'Group 3', 'Group 4', 'Group 5', 'Group 6', 'Group 7']\n",
    "skip_rate = [50.36, 49.09, 63.28, 61.63, 82.47, 59.27, 88.68]  \n",
    "population_size = [81699, 344761, 36050, 993, 154, 194119, 52005]  \n",
    "\n",
    "feasibility_score = [\n",
    "    2.737903 + 0.003072 + 0.788359 + 92.75395 + 0.160173 + 157.909436 ,  # Group 1\n",
    "    3.1961 + 0.025615 + 0.742632 + 58.826703 + 0.011306 + 54.023486 ,  # Group 2\n",
    "    2.573227 + 0.003079 + 0.751698 + 101.391068 + 0.006768 + 165.899854 ,  # Group 3\n",
    "    0.951431 + 0.011078 + 0.727231 + 163.572004 + 0.194361 + 132.854985 ,  # Group 4\n",
    "    0.486693 + 0 + 0.763689 + 239.733766 + 0.142857 + 286.694805 ,  # Group 5\n",
    "    2.439582 + 0.021368 + 0.734383 + 125.502248 + 0.019292 + 119.237236 ,  # Group 6\n",
    "    1.193579 + 0.001211 + 0.75186 + 227.902067 + 0.006884 + 312.741198  # Group 7\n",
    "]\n",
    "\n",
    "# Giving 50% weight to skip rate and 50% to population size (scaled)\n",
    "population_scaled = [pop / 1000 for pop in population_size]  \n",
    "segment_attractiveness = [(0.5 * skip_rate[i]) + (0.5 * population_scaled[i]) for i in range(len(groups))]\n",
    "\n",
    "# Highlighted groups\n",
    "highlight_groups = ['Group 2', 'Group 6', 'Group 7']\n",
    "\n",
    "plt.figure(figsize=(10, 6))\n",
    "\n",
    "# Define bubble sizes based on population\n",
    "bubble_sizes = [size / 5 for size in population_size]  \n",
    "\n",
    "colors = ['red' if group in highlight_groups else 'green' for group in groups]\n",
    "plt.scatter(feasibility_score, segment_attractiveness, s=bubble_sizes, alpha=0.6, color=colors)\n",
    "\n",
    "for i, group in enumerate(groups):\n",
    "    plt.text(feasibility_score[i], segment_attractiveness[i], group, fontsize=10, ha='right')\n",
    "\n",
    "plt.title('Segment Attractiveness (Skip Rate + Population) vs Feasibility (Target Groups Highlighted)')\n",
    "\n",
    "plt.xlim(left=0)\n",
    "plt.xticks([])  \n",
    "plt.yticks([])  \n",
    "\n",
    "plt.tight_layout()\n",
    "plt.show()"
   ]
  },
  {
   "cell_type": "code",
   "execution_count": null,
   "metadata": {},
   "outputs": [],
   "source": []
  }
 ],
 "metadata": {
  "kernelspec": {
   "display_name": "base",
   "language": "python",
   "name": "python3"
  },
  "language_info": {
   "codemirror_mode": {
    "name": "ipython",
    "version": 3
   },
   "file_extension": ".py",
   "mimetype": "text/x-python",
   "name": "python",
   "nbconvert_exporter": "python",
   "pygments_lexer": "ipython3",
   "version": "3.12.4"
  }
 },
 "nbformat": 4,
 "nbformat_minor": 2
}
